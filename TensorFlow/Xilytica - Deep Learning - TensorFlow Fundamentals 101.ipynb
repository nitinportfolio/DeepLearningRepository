{
 "cells": [
  {
   "cell_type": "code",
   "execution_count": 22,
   "metadata": {},
   "outputs": [
    {
     "name": "stdout",
     "output_type": "stream",
     "text": [
      "2.5.0\n"
     ]
    }
   ],
   "source": [
    "import tensorflow as tf\n",
    "print(tf.__version__)"
   ]
  },
  {
   "cell_type": "markdown",
   "metadata": {},
   "source": [
    "- Introduction to Tensors\n",
    "- Getting information from Tensors\n",
    "- Manipulating Tensors\n",
    "- Tensors & NumPy\n",
    "- Using @t.funciton - To speed-up regular python functions\n",
    "- Using GPUs or TPUs with TensorFlow\n",
    "- Assignments"
   ]
  },
  {
   "cell_type": "code",
   "execution_count": 7,
   "metadata": {},
   "outputs": [
    {
     "name": "stdout",
     "output_type": "stream",
     "text": [
      "tf.Tensor(9, shape=(), dtype=int32)\n"
     ]
    },
    {
     "data": {
      "text/plain": [
       "<tf.Tensor: shape=(), dtype=int32, numpy=9>"
      ]
     },
     "execution_count": 7,
     "metadata": {},
     "output_type": "execute_result"
    }
   ],
   "source": [
    "# Creating a tensorflow unchangeable constant - constant\n",
    "my_tf1 = tf.constant(9)\n",
    "print(my_tf1)\n",
    "my_tf1"
   ]
  },
  {
   "cell_type": "code",
   "execution_count": 8,
   "metadata": {},
   "outputs": [
    {
     "name": "stdout",
     "output_type": "stream",
     "text": [
      "tf.Tensor([9 8 1 2], shape=(4,), dtype=int32)\n"
     ]
    },
    {
     "data": {
      "text/plain": [
       "<tf.Tensor: shape=(4,), dtype=int32, numpy=array([9, 8, 1, 2])>"
      ]
     },
     "execution_count": 8,
     "metadata": {},
     "output_type": "execute_result"
    }
   ],
   "source": [
    "# Creating a tensorflow unchangeable constant - 1 D or Venctor\n",
    "my_tf1d = tf.constant([9,8,1,2])\n",
    "print(my_tf1d)\n",
    "my_tf1d"
   ]
  },
  {
   "cell_type": "code",
   "execution_count": 9,
   "metadata": {},
   "outputs": [
    {
     "name": "stdout",
     "output_type": "stream",
     "text": [
      "tf.Tensor(\n",
      "[[1 2]\n",
      " [3 4]], shape=(2, 2), dtype=int32)\n"
     ]
    },
    {
     "data": {
      "text/plain": [
       "<tf.Tensor: shape=(2, 2), dtype=int32, numpy=\n",
       "array([[1, 2],\n",
       "       [3, 4]])>"
      ]
     },
     "execution_count": 9,
     "metadata": {},
     "output_type": "execute_result"
    }
   ],
   "source": [
    "# Creating a tensorflow unchangeable constant - constant - 2 D \n",
    "my_tf2d = tf.constant([[1,2],[3,4]])\n",
    "print(my_tf2d)\n",
    "my_tf2d"
   ]
  },
  {
   "cell_type": "code",
   "execution_count": 10,
   "metadata": {},
   "outputs": [
    {
     "name": "stdout",
     "output_type": "stream",
     "text": [
      "<tf.Variable 'Variable:0' shape=(3,) dtype=int32, numpy=array([10, 20, 30])>\n"
     ]
    },
    {
     "data": {
      "text/plain": [
       "<tf.Variable 'Variable:0' shape=(3,) dtype=int32, numpy=array([10, 20, 30])>"
      ]
     },
     "execution_count": 10,
     "metadata": {},
     "output_type": "execute_result"
    }
   ],
   "source": [
    "# Creating a variable\n",
    "my_tf_var = tf.Variable([10,20,30])\n",
    "print(my_tf_var)\n",
    "my_tf_var"
   ]
  },
  {
   "cell_type": "code",
   "execution_count": 12,
   "metadata": {},
   "outputs": [
    {
     "ename": "AttributeError",
     "evalue": "'tensorflow.python.framework.ops.EagerTensor' object has no attribute 'assign'",
     "output_type": "error",
     "traceback": [
      "\u001b[1;31m---------------------------------------------------------------------------\u001b[0m",
      "\u001b[1;31mAttributeError\u001b[0m                            Traceback (most recent call last)",
      "\u001b[1;32m<ipython-input-12-3ce35917546b>\u001b[0m in \u001b[0;36m<module>\u001b[1;34m\u001b[0m\n\u001b[1;32m----> 1\u001b[1;33m \u001b[0mmy_tf1d\u001b[0m\u001b[1;33m[\u001b[0m\u001b[1;36m0\u001b[0m\u001b[1;33m]\u001b[0m\u001b[1;33m.\u001b[0m\u001b[0massign\u001b[0m\u001b[1;33m(\u001b[0m\u001b[1;36m99\u001b[0m\u001b[1;33m)\u001b[0m\u001b[1;33m\u001b[0m\u001b[1;33m\u001b[0m\u001b[0m\n\u001b[0m",
      "\u001b[1;32mC:\\ProgramData\\Anaconda3\\lib\\site-packages\\tensorflow\\python\\framework\\ops.py\u001b[0m in \u001b[0;36m__getattr__\u001b[1;34m(self, name)\u001b[0m\n\u001b[0;32m    399\u001b[0m         \u001b[1;32mimport\u001b[0m \u001b[0mtensorflow\u001b[0m\u001b[1;33m.\u001b[0m\u001b[0mpython\u001b[0m\u001b[1;33m.\u001b[0m\u001b[0mops\u001b[0m\u001b[1;33m.\u001b[0m\u001b[0mnumpy_ops\u001b[0m\u001b[1;33m.\u001b[0m\u001b[0mnp_config\u001b[0m\u001b[1;33m\u001b[0m\u001b[1;33m\u001b[0m\u001b[0m\n\u001b[0;32m    400\u001b[0m         np_config.enable_numpy_behavior()\"\"\".format(type(self).__name__, name))\n\u001b[1;32m--> 401\u001b[1;33m     \u001b[0mself\u001b[0m\u001b[1;33m.\u001b[0m\u001b[0m__getattribute__\u001b[0m\u001b[1;33m(\u001b[0m\u001b[0mname\u001b[0m\u001b[1;33m)\u001b[0m\u001b[1;33m\u001b[0m\u001b[1;33m\u001b[0m\u001b[0m\n\u001b[0m\u001b[0;32m    402\u001b[0m \u001b[1;33m\u001b[0m\u001b[0m\n\u001b[0;32m    403\u001b[0m   \u001b[1;33m@\u001b[0m\u001b[0mstaticmethod\u001b[0m\u001b[1;33m\u001b[0m\u001b[1;33m\u001b[0m\u001b[0m\n",
      "\u001b[1;31mAttributeError\u001b[0m: 'tensorflow.python.framework.ops.EagerTensor' object has no attribute 'assign'"
     ]
    }
   ],
   "source": [
    "my_tf1d[0].assign(99)"
   ]
  },
  {
   "cell_type": "code",
   "execution_count": 15,
   "metadata": {},
   "outputs": [
    {
     "data": {
      "text/plain": [
       "<tf.Variable 'UnreadVariable' shape=(3,) dtype=int32, numpy=array([99, 20, 30])>"
      ]
     },
     "execution_count": 15,
     "metadata": {},
     "output_type": "execute_result"
    }
   ],
   "source": [
    "my_tf_var[0].assign(99)"
   ]
  },
  {
   "cell_type": "code",
   "execution_count": 16,
   "metadata": {},
   "outputs": [
    {
     "data": {
      "text/plain": [
       "<tf.Variable 'Variable:0' shape=(3,) dtype=int32, numpy=array([99, 20, 30])>"
      ]
     },
     "execution_count": 16,
     "metadata": {},
     "output_type": "execute_result"
    }
   ],
   "source": [
    "my_tf_var"
   ]
  },
  {
   "cell_type": "code",
   "execution_count": 18,
   "metadata": {},
   "outputs": [
    {
     "data": {
      "text/plain": [
       "tf.int32"
      ]
     },
     "execution_count": 18,
     "metadata": {},
     "output_type": "execute_result"
    }
   ],
   "source": [
    "my_tf_var.dtype"
   ]
  },
  {
   "cell_type": "code",
   "execution_count": 19,
   "metadata": {},
   "outputs": [
    {
     "data": {
      "text/plain": [
       "2"
      ]
     },
     "execution_count": 19,
     "metadata": {},
     "output_type": "execute_result"
    }
   ],
   "source": [
    "my_tf2d.ndim"
   ]
  },
  {
   "cell_type": "code",
   "execution_count": 20,
   "metadata": {},
   "outputs": [
    {
     "data": {
      "text/plain": [
       "TensorShape([2, 2])"
      ]
     },
     "execution_count": 20,
     "metadata": {},
     "output_type": "execute_result"
    }
   ],
   "source": [
    "my_tf2d.shape"
   ]
  },
  {
   "cell_type": "code",
   "execution_count": 21,
   "metadata": {},
   "outputs": [
    {
     "data": {
      "text/plain": [
       "TensorShape([3])"
      ]
     },
     "execution_count": 21,
     "metadata": {},
     "output_type": "execute_result"
    }
   ],
   "source": [
    "my_tf_var.shape"
   ]
  },
  {
   "cell_type": "code",
   "execution_count": 23,
   "metadata": {},
   "outputs": [],
   "source": [
    "# Creating a tensorflow constant \n",
    "constf = tf.constant([1,2,3,4,5], dtype=tf.float32)"
   ]
  },
  {
   "cell_type": "code",
   "execution_count": 24,
   "metadata": {},
   "outputs": [
    {
     "data": {
      "text/plain": [
       "<tf.Tensor: shape=(5,), dtype=float32, numpy=array([1., 2., 3., 4., 5.], dtype=float32)>"
      ]
     },
     "execution_count": 24,
     "metadata": {},
     "output_type": "execute_result"
    }
   ],
   "source": [
    "constf"
   ]
  },
  {
   "cell_type": "code",
   "execution_count": 25,
   "metadata": {},
   "outputs": [
    {
     "data": {
      "text/plain": [
       "1"
      ]
     },
     "execution_count": 25,
     "metadata": {},
     "output_type": "execute_result"
    }
   ],
   "source": [
    "constf.ndim"
   ]
  },
  {
   "cell_type": "code",
   "execution_count": 26,
   "metadata": {},
   "outputs": [
    {
     "data": {
      "text/plain": [
       "tf.float32"
      ]
     },
     "execution_count": 26,
     "metadata": {},
     "output_type": "execute_result"
    }
   ],
   "source": [
    "constf.dtype"
   ]
  },
  {
   "cell_type": "code",
   "execution_count": 27,
   "metadata": {},
   "outputs": [
    {
     "data": {
      "text/plain": [
       "TensorShape([5])"
      ]
     },
     "execution_count": 27,
     "metadata": {},
     "output_type": "execute_result"
    }
   ],
   "source": [
    "constf.shape"
   ]
  },
  {
   "cell_type": "code",
   "execution_count": 46,
   "metadata": {},
   "outputs": [],
   "source": [
    "# Creating a tensorlfow variable\n",
    "vartf = tf.Variable(['a','b','c','d','e'], dtype = tf.string)"
   ]
  },
  {
   "cell_type": "code",
   "execution_count": 34,
   "metadata": {},
   "outputs": [
    {
     "data": {
      "text/plain": [
       "<tf.Variable 'Variable:0' shape=(5,) dtype=string, numpy=array([b'a', b'b', b'c', b'd', b'e'], dtype=object)>"
      ]
     },
     "execution_count": 34,
     "metadata": {},
     "output_type": "execute_result"
    }
   ],
   "source": [
    "vartf"
   ]
  },
  {
   "cell_type": "code",
   "execution_count": 35,
   "metadata": {},
   "outputs": [
    {
     "name": "stdout",
     "output_type": "stream",
     "text": [
      "<tf.Variable 'Variable:0' shape=(5,) dtype=string, numpy=array([b'a', b'b', b'c', b'd', b'e'], dtype=object)>\n"
     ]
    }
   ],
   "source": [
    "print(vartf)"
   ]
  },
  {
   "cell_type": "code",
   "execution_count": 37,
   "metadata": {},
   "outputs": [
    {
     "data": {
      "text/plain": [
       "TensorShape([5])"
      ]
     },
     "execution_count": 37,
     "metadata": {},
     "output_type": "execute_result"
    }
   ],
   "source": [
    "vartf.shape"
   ]
  },
  {
   "cell_type": "code",
   "execution_count": 38,
   "metadata": {},
   "outputs": [
    {
     "data": {
      "text/plain": [
       "tf.string"
      ]
     },
     "execution_count": 38,
     "metadata": {},
     "output_type": "execute_result"
    }
   ],
   "source": [
    "vartf.dtype"
   ]
  },
  {
   "cell_type": "code",
   "execution_count": 40,
   "metadata": {},
   "outputs": [
    {
     "data": {
      "text/plain": [
       "<tf.Tensor: shape=(5,), dtype=string, numpy=array([b'a', b'b', b'c', b'd', b'e'], dtype=object)>"
      ]
     },
     "execution_count": 40,
     "metadata": {},
     "output_type": "execute_result"
    }
   ],
   "source": [
    "vartf.value()"
   ]
  },
  {
   "cell_type": "code",
   "execution_count": 42,
   "metadata": {},
   "outputs": [
    {
     "data": {
      "text/plain": [
       "array([b'a', b'b', b'c', b'd', b'e'], dtype=object)"
      ]
     },
     "execution_count": 42,
     "metadata": {},
     "output_type": "execute_result"
    }
   ],
   "source": [
    "vartf.numpy()"
   ]
  },
  {
   "cell_type": "code",
   "execution_count": 48,
   "metadata": {},
   "outputs": [],
   "source": [
    "# Assigning or updating variable\n",
    "vartf = tf.Variable([1,2,3], dtype = tf.int32)"
   ]
  },
  {
   "cell_type": "code",
   "execution_count": 49,
   "metadata": {},
   "outputs": [
    {
     "data": {
      "text/plain": [
       "<tf.Tensor: shape=(), dtype=int32, numpy=1>"
      ]
     },
     "execution_count": 49,
     "metadata": {},
     "output_type": "execute_result"
    }
   ],
   "source": [
    "vartf[0]"
   ]
  },
  {
   "cell_type": "code",
   "execution_count": 50,
   "metadata": {},
   "outputs": [
    {
     "data": {
      "text/plain": [
       "<tf.Variable 'UnreadVariable' shape=(3,) dtype=int32, numpy=array([100,   2,   3])>"
      ]
     },
     "execution_count": 50,
     "metadata": {},
     "output_type": "execute_result"
    }
   ],
   "source": [
    "vartf[0].assign(100)"
   ]
  },
  {
   "cell_type": "code",
   "execution_count": 51,
   "metadata": {},
   "outputs": [
    {
     "data": {
      "text/plain": [
       "<tf.Variable 'Variable:0' shape=(3,) dtype=int32, numpy=array([100,   2,   3])>"
      ]
     },
     "execution_count": 51,
     "metadata": {},
     "output_type": "execute_result"
    }
   ],
   "source": [
    "vartf"
   ]
  },
  {
   "cell_type": "markdown",
   "metadata": {},
   "source": [
    "# Random Tensors"
   ]
  },
  {
   "cell_type": "code",
   "execution_count": 53,
   "metadata": {},
   "outputs": [],
   "source": [
    "rand1 = tf.random.normal([3,3])"
   ]
  },
  {
   "cell_type": "code",
   "execution_count": 54,
   "metadata": {},
   "outputs": [
    {
     "data": {
      "text/plain": [
       "<tf.Tensor: shape=(3, 3), dtype=float32, numpy=\n",
       "array([[ 0.15007879, -1.1479646 , -0.95872945],\n",
       "       [-0.3391757 , -0.26348972,  0.08205052],\n",
       "       [-0.12499978, -0.10525679, -1.2089556 ]], dtype=float32)>"
      ]
     },
     "execution_count": 54,
     "metadata": {},
     "output_type": "execute_result"
    }
   ],
   "source": [
    "rand1"
   ]
  },
  {
   "cell_type": "code",
   "execution_count": 55,
   "metadata": {},
   "outputs": [
    {
     "data": {
      "text/plain": [
       "2"
      ]
     },
     "execution_count": 55,
     "metadata": {},
     "output_type": "execute_result"
    }
   ],
   "source": [
    "rand1.ndim"
   ]
  },
  {
   "cell_type": "code",
   "execution_count": 56,
   "metadata": {},
   "outputs": [
    {
     "data": {
      "text/plain": [
       "TensorShape([3, 3])"
      ]
     },
     "execution_count": 56,
     "metadata": {},
     "output_type": "execute_result"
    }
   ],
   "source": [
    "rand1.shape"
   ]
  },
  {
   "cell_type": "code",
   "execution_count": 59,
   "metadata": {},
   "outputs": [],
   "source": [
    "rand_seed = tf.random.Generator.from_seed(101)"
   ]
  },
  {
   "cell_type": "code",
   "execution_count": 65,
   "metadata": {},
   "outputs": [
    {
     "data": {
      "text/plain": [
       "<tf.Tensor: shape=(4, 4), dtype=float32, numpy=\n",
       "array([[ 0.08036723, -1.7199678 , -0.6891769 ,  0.22862972],\n",
       "       [-0.69891334, -0.11101238, -0.44537356,  0.1335287 ],\n",
       "       [ 0.12417295,  0.96785086, -0.35425642, -0.8899504 ],\n",
       "       [ 0.6247422 , -0.7167875 ,  1.2657576 , -0.04759569]],\n",
       "      dtype=float32)>"
      ]
     },
     "execution_count": 65,
     "metadata": {},
     "output_type": "execute_result"
    }
   ],
   "source": [
    "rand_seed = tf.random.Generator.from_seed(101)\n",
    "rand_seed.normal([4,4])"
   ]
  },
  {
   "cell_type": "code",
   "execution_count": 61,
   "metadata": {},
   "outputs": [
    {
     "data": {
      "text/plain": [
       "<tf.Tensor: shape=(5, 5), dtype=float32, numpy=\n",
       "array([[ 0.19140726, -0.3555461 ,  1.5696619 ,  0.20746839,  0.20725876],\n",
       "       [ 0.3713521 ,  0.19519211, -0.82391924, -0.60942024,  0.43897796],\n",
       "       [-0.1458506 , -0.80299944,  0.06389246, -1.520157  , -0.15557258],\n",
       "       [ 0.9957395 ,  1.0129821 ,  2.0632813 ,  0.86751133, -1.2219292 ],\n",
       "       [ 0.37480515, -0.02102797,  0.9785194 ,  0.27187097,  1.5302081 ]],\n",
       "      dtype=float32)>"
      ]
     },
     "execution_count": 61,
     "metadata": {},
     "output_type": "execute_result"
    }
   ],
   "source": [
    "rand_seed.normal((5,5))"
   ]
  },
  {
   "cell_type": "markdown",
   "metadata": {},
   "source": [
    "# Turning Numpy Array into Tensors"
   ]
  },
  {
   "cell_type": "code",
   "execution_count": 66,
   "metadata": {},
   "outputs": [],
   "source": [
    "numpy01 = np.arange(1,25,dtype = np.int32)"
   ]
  },
  {
   "cell_type": "code",
   "execution_count": 67,
   "metadata": {},
   "outputs": [
    {
     "data": {
      "text/plain": [
       "array([ 1,  2,  3,  4,  5,  6,  7,  8,  9, 10, 11, 12, 13, 14, 15, 16, 17,\n",
       "       18, 19, 20, 21, 22, 23, 24])"
      ]
     },
     "execution_count": 67,
     "metadata": {},
     "output_type": "execute_result"
    }
   ],
   "source": [
    "numpy01"
   ]
  },
  {
   "cell_type": "code",
   "execution_count": 68,
   "metadata": {},
   "outputs": [],
   "source": [
    "numpy_tf = tf.constant(numpy01)"
   ]
  },
  {
   "cell_type": "code",
   "execution_count": 69,
   "metadata": {},
   "outputs": [
    {
     "data": {
      "text/plain": [
       "<tf.Tensor: shape=(24,), dtype=int32, numpy=\n",
       "array([ 1,  2,  3,  4,  5,  6,  7,  8,  9, 10, 11, 12, 13, 14, 15, 16, 17,\n",
       "       18, 19, 20, 21, 22, 23, 24])>"
      ]
     },
     "execution_count": 69,
     "metadata": {},
     "output_type": "execute_result"
    }
   ],
   "source": [
    "numpy_tf"
   ]
  },
  {
   "cell_type": "markdown",
   "metadata": {},
   "source": [
    "# Getting info from Tensors\n",
    "\n",
    "*   Shape\n",
    "*   Rank - Means Dimensions\n",
    "*   Axis or Dimensions\n",
    "*   Size"
   ]
  },
  {
   "cell_type": "code",
   "execution_count": 74,
   "metadata": {},
   "outputs": [
    {
     "data": {
      "text/plain": [
       "<tf.Tensor: shape=(5, 5), dtype=float32, numpy=\n",
       "array([[ 0.5266268 , -0.91323966,  1.7929833 , -1.2123812 , -0.08350507],\n",
       "       [ 0.57909673, -0.93995786, -0.1343091 ,  1.2543613 ,  0.19756953],\n",
       "       [-2.746631  , -0.19550392, -0.26244   , -0.61866   , -0.85656   ],\n",
       "       [-1.4644089 ,  2.1609333 ,  0.52584565, -0.27211696, -0.32936555],\n",
       "       [-0.94879425,  0.97819895,  0.35098058,  0.75247604, -2.446671  ]],\n",
       "      dtype=float32)>"
      ]
     },
     "execution_count": 74,
     "metadata": {},
     "output_type": "execute_result"
    }
   ],
   "source": [
    "mytf = tf.random.normal((5,5))\n",
    "mytf\n",
    "#tf.round(mytf,2)"
   ]
  },
  {
   "cell_type": "code",
   "execution_count": 81,
   "metadata": {},
   "outputs": [],
   "source": [
    "mytf1=np.round(mytf,2)"
   ]
  },
  {
   "cell_type": "code",
   "execution_count": 82,
   "metadata": {},
   "outputs": [
    {
     "data": {
      "text/plain": [
       "array([[ 0.53, -0.91,  1.79, -1.21, -0.08],\n",
       "       [ 0.58, -0.94, -0.13,  1.25,  0.2 ],\n",
       "       [-2.75, -0.2 , -0.26, -0.62, -0.86],\n",
       "       [-1.46,  2.16,  0.53, -0.27, -0.33],\n",
       "       [-0.95,  0.98,  0.35,  0.75, -2.45]], dtype=float32)"
      ]
     },
     "execution_count": 82,
     "metadata": {},
     "output_type": "execute_result"
    }
   ],
   "source": [
    "mytf1"
   ]
  },
  {
   "cell_type": "code",
   "execution_count": 83,
   "metadata": {},
   "outputs": [
    {
     "data": {
      "text/plain": [
       "(5, 5)"
      ]
     },
     "execution_count": 83,
     "metadata": {},
     "output_type": "execute_result"
    }
   ],
   "source": [
    "mytf1.shape"
   ]
  },
  {
   "cell_type": "code",
   "execution_count": 84,
   "metadata": {},
   "outputs": [
    {
     "data": {
      "text/plain": [
       "2"
      ]
     },
     "execution_count": 84,
     "metadata": {},
     "output_type": "execute_result"
    }
   ],
   "source": [
    "mytf1.ndim"
   ]
  },
  {
   "cell_type": "code",
   "execution_count": 85,
   "metadata": {},
   "outputs": [
    {
     "data": {
      "text/plain": [
       "<tf.Tensor: shape=(), dtype=int32, numpy=25>"
      ]
     },
     "execution_count": 85,
     "metadata": {},
     "output_type": "execute_result"
    }
   ],
   "source": [
    "tf.size(mytf1)"
   ]
  },
  {
   "cell_type": "code",
   "execution_count": 86,
   "metadata": {},
   "outputs": [
    {
     "name": "stdout",
     "output_type": "stream",
     "text": [
      "Datatype of every elemets:  float32\n",
      "Number of Dimensions (Rank):  2\n",
      "Shape of tensor:  (5, 5)\n",
      "Elements along the 0 axis:  5\n",
      "Elements along the last axis:  5\n",
      "Total number of elements in the tensor:  tf.Tensor(25, shape=(), dtype=int32)\n",
      "Total number of elements in the tensor:  25\n"
     ]
    }
   ],
   "source": [
    "# Getting various attributes of Tensors\n",
    "print('Datatype of every elemets: ', mytf1.dtype)\n",
    "print('Number of Dimensions (Rank): ', mytf1.ndim)\n",
    "print('Shape of tensor: ', mytf1.shape)\n",
    "print('Elements along the 0 axis: ', mytf1.shape[0])\n",
    "print('Elements along the last axis: ', mytf1.shape[-1])\n",
    "print('Total number of elements in the tensor: ', tf.size(mytf1))\n",
    "print('Total number of elements in the tensor: ', tf.size(mytf1).numpy())"
   ]
  },
  {
   "cell_type": "markdown",
   "metadata": {},
   "source": [
    "# Indexing Tensors"
   ]
  },
  {
   "cell_type": "code",
   "execution_count": 108,
   "metadata": {},
   "outputs": [
    {
     "data": {
      "text/plain": [
       "<tf.Tensor: shape=(2, 3, 4, 5), dtype=int32, numpy=\n",
       "array([[[[0, 0, 1, 0, 2],\n",
       "         [2, 4, 1, 1, 4],\n",
       "         [3, 0, 1, 1, 2],\n",
       "         [2, 1, 2, 2, 1]],\n",
       "\n",
       "        [[3, 2, 0, 2, 0],\n",
       "         [3, 1, 0, 3, 3],\n",
       "         [0, 0, 0, 0, 4],\n",
       "         [4, 4, 3, 3, 2]],\n",
       "\n",
       "        [[3, 0, 4, 1, 0],\n",
       "         [3, 2, 1, 1, 1],\n",
       "         [0, 0, 2, 0, 2],\n",
       "         [2, 3, 4, 1, 1]]],\n",
       "\n",
       "\n",
       "       [[[3, 0, 4, 3, 1],\n",
       "         [3, 2, 3, 3, 0],\n",
       "         [0, 3, 4, 3, 4],\n",
       "         [3, 1, 0, 0, 1]],\n",
       "\n",
       "        [[4, 1, 0, 4, 3],\n",
       "         [2, 0, 4, 4, 0],\n",
       "         [1, 0, 1, 3, 3],\n",
       "         [4, 0, 1, 1, 1]],\n",
       "\n",
       "        [[1, 2, 4, 4, 0],\n",
       "         [0, 0, 1, 3, 3],\n",
       "         [1, 1, 3, 4, 4],\n",
       "         [1, 3, 1, 1, 4]]]])>"
      ]
     },
     "execution_count": 108,
     "metadata": {},
     "output_type": "execute_result"
    }
   ],
   "source": [
    "mytf = tf.random.uniform(shape = (2,3,4,5), minval=0, maxval=5, dtype = tf.dtypes.int32)\n",
    "mytf"
   ]
  },
  {
   "cell_type": "code",
   "execution_count": 109,
   "metadata": {},
   "outputs": [],
   "source": [
    "#myz = tf.zeros([2,3,4,5])\n",
    "#myz"
   ]
  },
  {
   "cell_type": "code",
   "execution_count": 110,
   "metadata": {},
   "outputs": [
    {
     "data": {
      "text/plain": [
       "<tf.Tensor: shape=(3, 4, 5), dtype=int32, numpy=\n",
       "array([[[0, 0, 1, 0, 2],\n",
       "        [2, 4, 1, 1, 4],\n",
       "        [3, 0, 1, 1, 2],\n",
       "        [2, 1, 2, 2, 1]],\n",
       "\n",
       "       [[3, 2, 0, 2, 0],\n",
       "        [3, 1, 0, 3, 3],\n",
       "        [0, 0, 0, 0, 4],\n",
       "        [4, 4, 3, 3, 2]],\n",
       "\n",
       "       [[3, 0, 4, 1, 0],\n",
       "        [3, 2, 1, 1, 1],\n",
       "        [0, 0, 2, 0, 2],\n",
       "        [2, 3, 4, 1, 1]]])>"
      ]
     },
     "execution_count": 110,
     "metadata": {},
     "output_type": "execute_result"
    }
   ],
   "source": [
    "mytf[0]"
   ]
  },
  {
   "cell_type": "code",
   "execution_count": 111,
   "metadata": {},
   "outputs": [
    {
     "data": {
      "text/plain": [
       "<tf.Tensor: shape=(4, 5), dtype=int32, numpy=\n",
       "array([[0, 0, 1, 0, 2],\n",
       "       [2, 4, 1, 1, 4],\n",
       "       [3, 0, 1, 1, 2],\n",
       "       [2, 1, 2, 2, 1]])>"
      ]
     },
     "execution_count": 111,
     "metadata": {},
     "output_type": "execute_result"
    }
   ],
   "source": [
    "mytf[0][0]"
   ]
  },
  {
   "cell_type": "code",
   "execution_count": 113,
   "metadata": {},
   "outputs": [
    {
     "data": {
      "text/plain": [
       "<tf.Tensor: shape=(3, 2), dtype=int32, numpy=\n",
       "array([[0, 0],\n",
       "       [2, 4],\n",
       "       [3, 0]])>"
      ]
     },
     "execution_count": 113,
     "metadata": {},
     "output_type": "execute_result"
    }
   ],
   "source": [
    "mytf[0][0][:3,:2]"
   ]
  },
  {
   "cell_type": "code",
   "execution_count": 117,
   "metadata": {},
   "outputs": [
    {
     "data": {
      "text/plain": [
       "<tf.Tensor: shape=(2, 3, 3, 2), dtype=int32, numpy=\n",
       "array([[[[0, 0],\n",
       "         [2, 4],\n",
       "         [3, 0]],\n",
       "\n",
       "        [[3, 2],\n",
       "         [3, 1],\n",
       "         [0, 0]],\n",
       "\n",
       "        [[3, 0],\n",
       "         [3, 2],\n",
       "         [0, 0]]],\n",
       "\n",
       "\n",
       "       [[[3, 0],\n",
       "         [3, 2],\n",
       "         [0, 3]],\n",
       "\n",
       "        [[4, 1],\n",
       "         [2, 0],\n",
       "         [1, 0]],\n",
       "\n",
       "        [[1, 2],\n",
       "         [0, 0],\n",
       "         [1, 1]]]])>"
      ]
     },
     "execution_count": 117,
     "metadata": {},
     "output_type": "execute_result"
    }
   ],
   "source": [
    "# Getting 1st two elements of each dimensions\n",
    "#rank_4_tensor[:2,:2,:2,:2]\n",
    "mytf[:,:,:3,:2]"
   ]
  },
  {
   "cell_type": "code",
   "execution_count": 120,
   "metadata": {},
   "outputs": [
    {
     "data": {
      "text/plain": [
       "<tf.Tensor: shape=(2, 3, 4, 5), dtype=int32, numpy=\n",
       "array([[[[0, 0, 1, 0, 2],\n",
       "         [2, 4, 1, 1, 4],\n",
       "         [3, 0, 1, 1, 2],\n",
       "         [2, 1, 2, 2, 1]],\n",
       "\n",
       "        [[3, 2, 0, 2, 0],\n",
       "         [3, 1, 0, 3, 3],\n",
       "         [0, 0, 0, 0, 4],\n",
       "         [4, 4, 3, 3, 2]],\n",
       "\n",
       "        [[3, 0, 4, 1, 0],\n",
       "         [3, 2, 1, 1, 1],\n",
       "         [0, 0, 2, 0, 2],\n",
       "         [2, 3, 4, 1, 1]]],\n",
       "\n",
       "\n",
       "       [[[3, 0, 4, 3, 1],\n",
       "         [3, 2, 3, 3, 0],\n",
       "         [0, 3, 4, 3, 4],\n",
       "         [3, 1, 0, 0, 1]],\n",
       "\n",
       "        [[4, 1, 0, 4, 3],\n",
       "         [2, 0, 4, 4, 0],\n",
       "         [1, 0, 1, 3, 3],\n",
       "         [4, 0, 1, 1, 1]],\n",
       "\n",
       "        [[1, 2, 4, 4, 0],\n",
       "         [0, 0, 1, 3, 3],\n",
       "         [1, 1, 3, 4, 4],\n",
       "         [1, 3, 1, 1, 4]]]])>"
      ]
     },
     "execution_count": 120,
     "metadata": {},
     "output_type": "execute_result"
    }
   ],
   "source": [
    "mytf"
   ]
  },
  {
   "cell_type": "code",
   "execution_count": 121,
   "metadata": {},
   "outputs": [
    {
     "data": {
      "text/plain": [
       "<tf.Tensor: shape=(2, 3, 4, 5), dtype=int32, numpy=\n",
       "array([[[[0, 0, 1, 0, 2],\n",
       "         [2, 4, 1, 1, 4],\n",
       "         [3, 0, 1, 1, 2],\n",
       "         [2, 1, 2, 2, 1]],\n",
       "\n",
       "        [[3, 2, 0, 2, 0],\n",
       "         [3, 1, 0, 3, 3],\n",
       "         [0, 0, 0, 0, 4],\n",
       "         [4, 4, 3, 3, 2]],\n",
       "\n",
       "        [[3, 0, 4, 1, 0],\n",
       "         [3, 2, 1, 1, 1],\n",
       "         [0, 0, 2, 0, 2],\n",
       "         [2, 3, 4, 1, 1]]],\n",
       "\n",
       "\n",
       "       [[[3, 0, 4, 3, 1],\n",
       "         [3, 2, 3, 3, 0],\n",
       "         [0, 3, 4, 3, 4],\n",
       "         [3, 1, 0, 0, 1]],\n",
       "\n",
       "        [[4, 1, 0, 4, 3],\n",
       "         [2, 0, 4, 4, 0],\n",
       "         [1, 0, 1, 3, 3],\n",
       "         [4, 0, 1, 1, 1]],\n",
       "\n",
       "        [[1, 2, 4, 4, 0],\n",
       "         [0, 0, 1, 3, 3],\n",
       "         [1, 1, 3, 4, 4],\n",
       "         [1, 3, 1, 1, 4]]]])>"
      ]
     },
     "execution_count": 121,
     "metadata": {},
     "output_type": "execute_result"
    }
   ],
   "source": [
    "mytf[0:2]"
   ]
  },
  {
   "cell_type": "code",
   "execution_count": 151,
   "metadata": {},
   "outputs": [],
   "source": [
    "#mytf[:2,][:2][:2,][:2,]"
   ]
  },
  {
   "cell_type": "code",
   "execution_count": 138,
   "metadata": {},
   "outputs": [
    {
     "data": {
      "text/plain": [
       "<tf.Tensor: shape=(2, 2, 4, 5), dtype=int32, numpy=\n",
       "array([[[[0, 0, 1, 0, 2],\n",
       "         [2, 4, 1, 1, 4],\n",
       "         [3, 0, 1, 1, 2],\n",
       "         [2, 1, 2, 2, 1]],\n",
       "\n",
       "        [[3, 2, 0, 2, 0],\n",
       "         [3, 1, 0, 3, 3],\n",
       "         [0, 0, 0, 0, 4],\n",
       "         [4, 4, 3, 3, 2]]],\n",
       "\n",
       "\n",
       "       [[[3, 0, 4, 3, 1],\n",
       "         [3, 2, 3, 3, 0],\n",
       "         [0, 3, 4, 3, 4],\n",
       "         [3, 1, 0, 0, 1]],\n",
       "\n",
       "        [[4, 1, 0, 4, 3],\n",
       "         [2, 0, 4, 4, 0],\n",
       "         [1, 0, 1, 3, 3],\n",
       "         [4, 0, 1, 1, 1]]]])>"
      ]
     },
     "execution_count": 138,
     "metadata": {},
     "output_type": "execute_result"
    }
   ],
   "source": [
    "mytf[:2,:2,:,:]"
   ]
  },
  {
   "cell_type": "code",
   "execution_count": 152,
   "metadata": {},
   "outputs": [
    {
     "data": {
      "text/plain": [
       "<tf.Tensor: shape=(2, 2, 2, 2), dtype=int32, numpy=\n",
       "array([[[[0, 0],\n",
       "         [2, 4]],\n",
       "\n",
       "        [[3, 2],\n",
       "         [3, 1]]],\n",
       "\n",
       "\n",
       "       [[[3, 0],\n",
       "         [3, 2]],\n",
       "\n",
       "        [[4, 1],\n",
       "         [2, 0]]]])>"
      ]
     },
     "execution_count": 152,
     "metadata": {},
     "output_type": "execute_result"
    }
   ],
   "source": [
    "mytf[:2,:2,:2,:2]"
   ]
  },
  {
   "cell_type": "code",
   "execution_count": 154,
   "metadata": {},
   "outputs": [
    {
     "data": {
      "text/plain": [
       "<tf.Tensor: shape=(5,), dtype=int32, numpy=array([1, 3, 1, 1, 4])>"
      ]
     },
     "execution_count": 154,
     "metadata": {},
     "output_type": "execute_result"
    }
   ],
   "source": [
    "mytf[1,2,3]"
   ]
  },
  {
   "cell_type": "code",
   "execution_count": 155,
   "metadata": {},
   "outputs": [
    {
     "data": {
      "text/plain": [
       "<tf.Tensor: shape=(2, 3, 4, 5), dtype=int32, numpy=\n",
       "array([[[[0, 0, 1, 0, 2],\n",
       "         [2, 4, 1, 1, 4],\n",
       "         [3, 0, 1, 1, 2],\n",
       "         [2, 1, 2, 2, 1]],\n",
       "\n",
       "        [[3, 2, 0, 2, 0],\n",
       "         [3, 1, 0, 3, 3],\n",
       "         [0, 0, 0, 0, 4],\n",
       "         [4, 4, 3, 3, 2]],\n",
       "\n",
       "        [[3, 0, 4, 1, 0],\n",
       "         [3, 2, 1, 1, 1],\n",
       "         [0, 0, 2, 0, 2],\n",
       "         [2, 3, 4, 1, 1]]],\n",
       "\n",
       "\n",
       "       [[[3, 0, 4, 3, 1],\n",
       "         [3, 2, 3, 3, 0],\n",
       "         [0, 3, 4, 3, 4],\n",
       "         [3, 1, 0, 0, 1]],\n",
       "\n",
       "        [[4, 1, 0, 4, 3],\n",
       "         [2, 0, 4, 4, 0],\n",
       "         [1, 0, 1, 3, 3],\n",
       "         [4, 0, 1, 1, 1]],\n",
       "\n",
       "        [[1, 2, 4, 4, 0],\n",
       "         [0, 0, 1, 3, 3],\n",
       "         [1, 1, 3, 4, 4],\n",
       "         [1, 3, 1, 1, 4]]]])>"
      ]
     },
     "execution_count": 155,
     "metadata": {},
     "output_type": "execute_result"
    }
   ],
   "source": [
    "mytf"
   ]
  },
  {
   "cell_type": "code",
   "execution_count": 159,
   "metadata": {},
   "outputs": [
    {
     "data": {
      "text/plain": [
       "<tf.Tensor: shape=(1, 1, 1, 1), dtype=int32, numpy=array([[[[0]]]])>"
      ]
     },
     "execution_count": 159,
     "metadata": {},
     "output_type": "execute_result"
    }
   ],
   "source": [
    "mytf[:1,:1,:1,:1]"
   ]
  },
  {
   "cell_type": "code",
   "execution_count": 161,
   "metadata": {},
   "outputs": [
    {
     "data": {
      "text/plain": [
       "<tf.Tensor: shape=(1, 1, 1, 5), dtype=int32, numpy=array([[[[0, 0, 1, 0, 2]]]])>"
      ]
     },
     "execution_count": 161,
     "metadata": {},
     "output_type": "execute_result"
    }
   ],
   "source": [
    "mytf[:1,:1,:1]"
   ]
  },
  {
   "cell_type": "code",
   "execution_count": 162,
   "metadata": {},
   "outputs": [
    {
     "data": {
      "text/plain": [
       "<tf.Tensor: shape=(1, 1, 1, 5), dtype=int32, numpy=array([[[[0, 0, 1, 0, 2]]]])>"
      ]
     },
     "execution_count": 162,
     "metadata": {},
     "output_type": "execute_result"
    }
   ],
   "source": [
    "mytf[:1,:1,:1,:]"
   ]
  },
  {
   "cell_type": "code",
   "execution_count": 163,
   "metadata": {},
   "outputs": [
    {
     "data": {
      "text/plain": [
       "TensorShape([2, 3, 4, 5])"
      ]
     },
     "execution_count": 163,
     "metadata": {},
     "output_type": "execute_result"
    }
   ],
   "source": [
    "mytf.shape"
   ]
  },
  {
   "cell_type": "code",
   "execution_count": 164,
   "metadata": {},
   "outputs": [
    {
     "data": {
      "text/plain": [
       "4"
      ]
     },
     "execution_count": 164,
     "metadata": {},
     "output_type": "execute_result"
    }
   ],
   "source": [
    "mytf.ndim"
   ]
  },
  {
   "cell_type": "markdown",
   "metadata": {},
   "source": [
    "# Adding extra dimension - \n",
    "- Without loosing or adding the extra information"
   ]
  },
  {
   "cell_type": "code",
   "execution_count": 166,
   "metadata": {
    "scrolled": false
   },
   "outputs": [
    {
     "data": {
      "text/plain": [
       "<tf.Tensor: shape=(2, 3, 4, 5, 1), dtype=int32, numpy=\n",
       "array([[[[[0],\n",
       "          [0],\n",
       "          [1],\n",
       "          [0],\n",
       "          [2]],\n",
       "\n",
       "         [[2],\n",
       "          [4],\n",
       "          [1],\n",
       "          [1],\n",
       "          [4]],\n",
       "\n",
       "         [[3],\n",
       "          [0],\n",
       "          [1],\n",
       "          [1],\n",
       "          [2]],\n",
       "\n",
       "         [[2],\n",
       "          [1],\n",
       "          [2],\n",
       "          [2],\n",
       "          [1]]],\n",
       "\n",
       "\n",
       "        [[[3],\n",
       "          [2],\n",
       "          [0],\n",
       "          [2],\n",
       "          [0]],\n",
       "\n",
       "         [[3],\n",
       "          [1],\n",
       "          [0],\n",
       "          [3],\n",
       "          [3]],\n",
       "\n",
       "         [[0],\n",
       "          [0],\n",
       "          [0],\n",
       "          [0],\n",
       "          [4]],\n",
       "\n",
       "         [[4],\n",
       "          [4],\n",
       "          [3],\n",
       "          [3],\n",
       "          [2]]],\n",
       "\n",
       "\n",
       "        [[[3],\n",
       "          [0],\n",
       "          [4],\n",
       "          [1],\n",
       "          [0]],\n",
       "\n",
       "         [[3],\n",
       "          [2],\n",
       "          [1],\n",
       "          [1],\n",
       "          [1]],\n",
       "\n",
       "         [[0],\n",
       "          [0],\n",
       "          [2],\n",
       "          [0],\n",
       "          [2]],\n",
       "\n",
       "         [[2],\n",
       "          [3],\n",
       "          [4],\n",
       "          [1],\n",
       "          [1]]]],\n",
       "\n",
       "\n",
       "\n",
       "       [[[[3],\n",
       "          [0],\n",
       "          [4],\n",
       "          [3],\n",
       "          [1]],\n",
       "\n",
       "         [[3],\n",
       "          [2],\n",
       "          [3],\n",
       "          [3],\n",
       "          [0]],\n",
       "\n",
       "         [[0],\n",
       "          [3],\n",
       "          [4],\n",
       "          [3],\n",
       "          [4]],\n",
       "\n",
       "         [[3],\n",
       "          [1],\n",
       "          [0],\n",
       "          [0],\n",
       "          [1]]],\n",
       "\n",
       "\n",
       "        [[[4],\n",
       "          [1],\n",
       "          [0],\n",
       "          [4],\n",
       "          [3]],\n",
       "\n",
       "         [[2],\n",
       "          [0],\n",
       "          [4],\n",
       "          [4],\n",
       "          [0]],\n",
       "\n",
       "         [[1],\n",
       "          [0],\n",
       "          [1],\n",
       "          [3],\n",
       "          [3]],\n",
       "\n",
       "         [[4],\n",
       "          [0],\n",
       "          [1],\n",
       "          [1],\n",
       "          [1]]],\n",
       "\n",
       "\n",
       "        [[[1],\n",
       "          [2],\n",
       "          [4],\n",
       "          [4],\n",
       "          [0]],\n",
       "\n",
       "         [[0],\n",
       "          [0],\n",
       "          [1],\n",
       "          [3],\n",
       "          [3]],\n",
       "\n",
       "         [[1],\n",
       "          [1],\n",
       "          [3],\n",
       "          [4],\n",
       "          [4]],\n",
       "\n",
       "         [[1],\n",
       "          [3],\n",
       "          [1],\n",
       "          [1],\n",
       "          [4]]]]])>"
      ]
     },
     "execution_count": 166,
     "metadata": {},
     "output_type": "execute_result"
    }
   ],
   "source": [
    "# ... meand on every previous axis\n",
    "mytf[...,tf.newaxis]"
   ]
  },
  {
   "cell_type": "code",
   "execution_count": 174,
   "metadata": {},
   "outputs": [
    {
     "data": {
      "text/plain": [
       "<tf.Tensor: shape=(2, 3, 4, 5, 1), dtype=int32, numpy=\n",
       "array([[[[[0],\n",
       "          [0],\n",
       "          [1],\n",
       "          [0],\n",
       "          [2]],\n",
       "\n",
       "         [[2],\n",
       "          [4],\n",
       "          [1],\n",
       "          [1],\n",
       "          [4]],\n",
       "\n",
       "         [[3],\n",
       "          [0],\n",
       "          [1],\n",
       "          [1],\n",
       "          [2]],\n",
       "\n",
       "         [[2],\n",
       "          [1],\n",
       "          [2],\n",
       "          [2],\n",
       "          [1]]],\n",
       "\n",
       "\n",
       "        [[[3],\n",
       "          [2],\n",
       "          [0],\n",
       "          [2],\n",
       "          [0]],\n",
       "\n",
       "         [[3],\n",
       "          [1],\n",
       "          [0],\n",
       "          [3],\n",
       "          [3]],\n",
       "\n",
       "         [[0],\n",
       "          [0],\n",
       "          [0],\n",
       "          [0],\n",
       "          [4]],\n",
       "\n",
       "         [[4],\n",
       "          [4],\n",
       "          [3],\n",
       "          [3],\n",
       "          [2]]],\n",
       "\n",
       "\n",
       "        [[[3],\n",
       "          [0],\n",
       "          [4],\n",
       "          [1],\n",
       "          [0]],\n",
       "\n",
       "         [[3],\n",
       "          [2],\n",
       "          [1],\n",
       "          [1],\n",
       "          [1]],\n",
       "\n",
       "         [[0],\n",
       "          [0],\n",
       "          [2],\n",
       "          [0],\n",
       "          [2]],\n",
       "\n",
       "         [[2],\n",
       "          [3],\n",
       "          [4],\n",
       "          [1],\n",
       "          [1]]]],\n",
       "\n",
       "\n",
       "\n",
       "       [[[[3],\n",
       "          [0],\n",
       "          [4],\n",
       "          [3],\n",
       "          [1]],\n",
       "\n",
       "         [[3],\n",
       "          [2],\n",
       "          [3],\n",
       "          [3],\n",
       "          [0]],\n",
       "\n",
       "         [[0],\n",
       "          [3],\n",
       "          [4],\n",
       "          [3],\n",
       "          [4]],\n",
       "\n",
       "         [[3],\n",
       "          [1],\n",
       "          [0],\n",
       "          [0],\n",
       "          [1]]],\n",
       "\n",
       "\n",
       "        [[[4],\n",
       "          [1],\n",
       "          [0],\n",
       "          [4],\n",
       "          [3]],\n",
       "\n",
       "         [[2],\n",
       "          [0],\n",
       "          [4],\n",
       "          [4],\n",
       "          [0]],\n",
       "\n",
       "         [[1],\n",
       "          [0],\n",
       "          [1],\n",
       "          [3],\n",
       "          [3]],\n",
       "\n",
       "         [[4],\n",
       "          [0],\n",
       "          [1],\n",
       "          [1],\n",
       "          [1]]],\n",
       "\n",
       "\n",
       "        [[[1],\n",
       "          [2],\n",
       "          [4],\n",
       "          [4],\n",
       "          [0]],\n",
       "\n",
       "         [[0],\n",
       "          [0],\n",
       "          [1],\n",
       "          [3],\n",
       "          [3]],\n",
       "\n",
       "         [[1],\n",
       "          [1],\n",
       "          [3],\n",
       "          [4],\n",
       "          [4]],\n",
       "\n",
       "         [[1],\n",
       "          [3],\n",
       "          [1],\n",
       "          [1],\n",
       "          [4]]]]])>"
      ]
     },
     "execution_count": 174,
     "metadata": {},
     "output_type": "execute_result"
    }
   ],
   "source": [
    "mytf[:,:,:,:,tf.newaxis]"
   ]
  },
  {
   "cell_type": "markdown",
   "metadata": {},
   "source": [
    "# Alternative to tf.newaxis"
   ]
  },
  {
   "cell_type": "code",
   "execution_count": 175,
   "metadata": {
    "scrolled": false
   },
   "outputs": [
    {
     "data": {
      "text/plain": [
       "<tf.Tensor: shape=(2, 3, 4, 5, 1), dtype=int32, numpy=\n",
       "array([[[[[0],\n",
       "          [0],\n",
       "          [1],\n",
       "          [0],\n",
       "          [2]],\n",
       "\n",
       "         [[2],\n",
       "          [4],\n",
       "          [1],\n",
       "          [1],\n",
       "          [4]],\n",
       "\n",
       "         [[3],\n",
       "          [0],\n",
       "          [1],\n",
       "          [1],\n",
       "          [2]],\n",
       "\n",
       "         [[2],\n",
       "          [1],\n",
       "          [2],\n",
       "          [2],\n",
       "          [1]]],\n",
       "\n",
       "\n",
       "        [[[3],\n",
       "          [2],\n",
       "          [0],\n",
       "          [2],\n",
       "          [0]],\n",
       "\n",
       "         [[3],\n",
       "          [1],\n",
       "          [0],\n",
       "          [3],\n",
       "          [3]],\n",
       "\n",
       "         [[0],\n",
       "          [0],\n",
       "          [0],\n",
       "          [0],\n",
       "          [4]],\n",
       "\n",
       "         [[4],\n",
       "          [4],\n",
       "          [3],\n",
       "          [3],\n",
       "          [2]]],\n",
       "\n",
       "\n",
       "        [[[3],\n",
       "          [0],\n",
       "          [4],\n",
       "          [1],\n",
       "          [0]],\n",
       "\n",
       "         [[3],\n",
       "          [2],\n",
       "          [1],\n",
       "          [1],\n",
       "          [1]],\n",
       "\n",
       "         [[0],\n",
       "          [0],\n",
       "          [2],\n",
       "          [0],\n",
       "          [2]],\n",
       "\n",
       "         [[2],\n",
       "          [3],\n",
       "          [4],\n",
       "          [1],\n",
       "          [1]]]],\n",
       "\n",
       "\n",
       "\n",
       "       [[[[3],\n",
       "          [0],\n",
       "          [4],\n",
       "          [3],\n",
       "          [1]],\n",
       "\n",
       "         [[3],\n",
       "          [2],\n",
       "          [3],\n",
       "          [3],\n",
       "          [0]],\n",
       "\n",
       "         [[0],\n",
       "          [3],\n",
       "          [4],\n",
       "          [3],\n",
       "          [4]],\n",
       "\n",
       "         [[3],\n",
       "          [1],\n",
       "          [0],\n",
       "          [0],\n",
       "          [1]]],\n",
       "\n",
       "\n",
       "        [[[4],\n",
       "          [1],\n",
       "          [0],\n",
       "          [4],\n",
       "          [3]],\n",
       "\n",
       "         [[2],\n",
       "          [0],\n",
       "          [4],\n",
       "          [4],\n",
       "          [0]],\n",
       "\n",
       "         [[1],\n",
       "          [0],\n",
       "          [1],\n",
       "          [3],\n",
       "          [3]],\n",
       "\n",
       "         [[4],\n",
       "          [0],\n",
       "          [1],\n",
       "          [1],\n",
       "          [1]]],\n",
       "\n",
       "\n",
       "        [[[1],\n",
       "          [2],\n",
       "          [4],\n",
       "          [4],\n",
       "          [0]],\n",
       "\n",
       "         [[0],\n",
       "          [0],\n",
       "          [1],\n",
       "          [3],\n",
       "          [3]],\n",
       "\n",
       "         [[1],\n",
       "          [1],\n",
       "          [3],\n",
       "          [4],\n",
       "          [4]],\n",
       "\n",
       "         [[1],\n",
       "          [3],\n",
       "          [1],\n",
       "          [1],\n",
       "          [4]]]]])>"
      ]
     },
     "execution_count": 175,
     "metadata": {},
     "output_type": "execute_result"
    }
   ],
   "source": [
    "# Expanding on the final axis\n",
    "tf.expand_dims(mytf, axis = -1)"
   ]
  },
  {
   "cell_type": "code",
   "execution_count": 176,
   "metadata": {},
   "outputs": [
    {
     "data": {
      "text/plain": [
       "<tf.Tensor: shape=(1, 2, 3, 4, 5), dtype=int32, numpy=\n",
       "array([[[[[0, 0, 1, 0, 2],\n",
       "          [2, 4, 1, 1, 4],\n",
       "          [3, 0, 1, 1, 2],\n",
       "          [2, 1, 2, 2, 1]],\n",
       "\n",
       "         [[3, 2, 0, 2, 0],\n",
       "          [3, 1, 0, 3, 3],\n",
       "          [0, 0, 0, 0, 4],\n",
       "          [4, 4, 3, 3, 2]],\n",
       "\n",
       "         [[3, 0, 4, 1, 0],\n",
       "          [3, 2, 1, 1, 1],\n",
       "          [0, 0, 2, 0, 2],\n",
       "          [2, 3, 4, 1, 1]]],\n",
       "\n",
       "\n",
       "        [[[3, 0, 4, 3, 1],\n",
       "          [3, 2, 3, 3, 0],\n",
       "          [0, 3, 4, 3, 4],\n",
       "          [3, 1, 0, 0, 1]],\n",
       "\n",
       "         [[4, 1, 0, 4, 3],\n",
       "          [2, 0, 4, 4, 0],\n",
       "          [1, 0, 1, 3, 3],\n",
       "          [4, 0, 1, 1, 1]],\n",
       "\n",
       "         [[1, 2, 4, 4, 0],\n",
       "          [0, 0, 1, 3, 3],\n",
       "          [1, 1, 3, 4, 4],\n",
       "          [1, 3, 1, 1, 4]]]]])>"
      ]
     },
     "execution_count": 176,
     "metadata": {},
     "output_type": "execute_result"
    }
   ],
   "source": [
    "# Adding extra dimension at teh front\n",
    "tf.expand_dims(mytf, axis = 0)"
   ]
  },
  {
   "cell_type": "code",
   "execution_count": null,
   "metadata": {},
   "outputs": [],
   "source": []
  }
 ],
 "metadata": {
  "kernelspec": {
   "display_name": "Python 3",
   "language": "python",
   "name": "python3"
  },
  "language_info": {
   "codemirror_mode": {
    "name": "ipython",
    "version": 3
   },
   "file_extension": ".py",
   "mimetype": "text/x-python",
   "name": "python",
   "nbconvert_exporter": "python",
   "pygments_lexer": "ipython3",
   "version": "3.8.5"
  }
 },
 "nbformat": 4,
 "nbformat_minor": 4
}
