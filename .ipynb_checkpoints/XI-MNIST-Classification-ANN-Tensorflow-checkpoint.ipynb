{
 "cells": [
  {
   "cell_type": "code",
   "execution_count": 1,
   "id": "650a015b",
   "metadata": {},
   "outputs": [
    {
     "name": "stderr",
     "output_type": "stream",
     "text": [
      "2023-10-18 22:39:54.561648: I tensorflow/core/platform/cpu_feature_guard.cc:182] This TensorFlow binary is optimized to use available CPU instructions in performance-critical operations.\n",
      "To enable the following instructions: AVX2 FMA, in other operations, rebuild TensorFlow with the appropriate compiler flags.\n"
     ]
    }
   ],
   "source": [
    "import tensorflow\n",
    "from tensorflow import keras\n",
    "from tensorflow.keras import Sequential\n",
    "from tensorflow.keras.layers import Dense, Flatten"
   ]
  },
  {
   "cell_type": "code",
   "execution_count": 2,
   "id": "e98a5587",
   "metadata": {},
   "outputs": [],
   "source": [
    "(X_train, y_train),(X_test, y_test) = keras.datasets.mnist.load_data() "
   ]
  },
  {
   "cell_type": "code",
   "execution_count": 3,
   "id": "0ed1db57",
   "metadata": {},
   "outputs": [
    {
     "data": {
      "text/plain": [
       "(60000, 28, 28)"
      ]
     },
     "execution_count": 3,
     "metadata": {},
     "output_type": "execute_result"
    }
   ],
   "source": [
    "X_train.shape"
   ]
  },
  {
   "cell_type": "code",
   "execution_count": 4,
   "id": "9270a8e3",
   "metadata": {},
   "outputs": [],
   "source": [
    "# Its a 3d array\n",
    "# We have data of 60000 images with 28 by 28 numpy array"
   ]
  },
  {
   "cell_type": "code",
   "execution_count": 5,
   "id": "cb0a3c9e",
   "metadata": {},
   "outputs": [
    {
     "data": {
      "text/plain": [
       "(28, 28)"
      ]
     },
     "execution_count": 5,
     "metadata": {},
     "output_type": "execute_result"
    }
   ],
   "source": [
    "# Shape of 1st image\n",
    "X_train[0].shape"
   ]
  },
  {
   "cell_type": "code",
   "execution_count": 6,
   "id": "0ec67186",
   "metadata": {},
   "outputs": [
    {
     "data": {
      "text/plain": [
       "(10000, 28, 28)"
      ]
     },
     "execution_count": 6,
     "metadata": {},
     "output_type": "execute_result"
    }
   ],
   "source": [
    "X_test.shape"
   ]
  },
  {
   "cell_type": "code",
   "execution_count": 7,
   "id": "09481560",
   "metadata": {},
   "outputs": [
    {
     "data": {
      "text/plain": [
       "(28, 28)"
      ]
     },
     "execution_count": 7,
     "metadata": {},
     "output_type": "execute_result"
    }
   ],
   "source": [
    "X_test[0].shape"
   ]
  },
  {
   "cell_type": "code",
   "execution_count": 8,
   "id": "e63f7e7b",
   "metadata": {},
   "outputs": [
    {
     "data": {
      "text/plain": [
       "array([7, 2, 1, ..., 4, 5, 6], dtype=uint8)"
      ]
     },
     "execution_count": 8,
     "metadata": {},
     "output_type": "execute_result"
    }
   ],
   "source": [
    "y_test"
   ]
  },
  {
   "cell_type": "code",
   "execution_count": 9,
   "id": "eccaf224",
   "metadata": {},
   "outputs": [
    {
     "data": {
      "text/plain": [
       "7"
      ]
     },
     "execution_count": 9,
     "metadata": {},
     "output_type": "execute_result"
    }
   ],
   "source": [
    "y_test[0]"
   ]
  },
  {
   "cell_type": "code",
   "execution_count": 10,
   "id": "edf5e581",
   "metadata": {},
   "outputs": [
    {
     "data": {
      "text/plain": [
       "(60000,)"
      ]
     },
     "execution_count": 10,
     "metadata": {},
     "output_type": "execute_result"
    }
   ],
   "source": [
    "y_train.shape"
   ]
  },
  {
   "cell_type": "code",
   "execution_count": 11,
   "id": "d430e864",
   "metadata": {},
   "outputs": [
    {
     "data": {
      "text/plain": [
       "3"
      ]
     },
     "execution_count": 11,
     "metadata": {},
     "output_type": "execute_result"
    }
   ],
   "source": [
    "y_train[7]"
   ]
  },
  {
   "cell_type": "code",
   "execution_count": 13,
   "id": "335d354d",
   "metadata": {},
   "outputs": [
    {
     "data": {
      "text/plain": [
       "<matplotlib.image.AxesImage at 0x7fa7684d8a30>"
      ]
     },
     "execution_count": 13,
     "metadata": {},
     "output_type": "execute_result"
    },
    {
     "data": {
      "image/png": "[encoded data removed]",
      "text/plain": [
       "<Figure size 640x480 with 1 Axes>"
      ]
     },
     "metadata": {},
     "output_type": "display_data"
    }
   ],
   "source": [
    " import matplotlib.pyplot as plt\n",
    "plt.imshow(X_train[7])"
   ]
  },
  {
   "cell_type": "code",
   "execution_count": 14,
   "id": "4628f78a",
   "metadata": {},
   "outputs": [],
   "source": [
    "# For quick convergence we will scale the values so that values are between 0 & 1\n",
    "X_train = X_train/255\n",
    "X_test = X_test/255"
   ]
  },
  {
   "cell_type": "code",
   "execution_count": 15,
   "id": "cd465e3c",
   "metadata": {},
   "outputs": [],
   "source": [
    "# Using keras Flatten we will convert higher dimensional array into 1 dimensional"
   ]
  },
  {
   "cell_type": "code",
   "execution_count": 16,
   "id": "21be25ba",
   "metadata": {},
   "outputs": [],
   "source": [
    "model = Sequential()\n",
    "model.add(Flatten(input_shape = (28,28)))\n",
    "model.add(Dense(128, activation =\"relu\"))\n",
    "model.add(Dense(32, activation =\"relu\"))\n",
    "model.add(Dense(10, activation=\"softmax\"))"
   ]
  },
  {
   "cell_type": "code",
   "execution_count": 17,
   "id": "d549f35f",
   "metadata": {},
   "outputs": [
    {
     "name": "stdout",
     "output_type": "stream",
     "text": [
      "Model: \"sequential\"\n",
      "_________________________________________________________________\n",
      " Layer (type)                Output Shape              Param #   \n",
      "=================================================================\n",
      " flatten (Flatten)           (None, 784)               0         \n",
      "                                                                 \n",
      " dense (Dense)               (None, 128)               100480    \n",
      "                                                                 \n",
      " dense_1 (Dense)             (None, 32)                4128      \n",
      "                                                                 \n",
      " dense_2 (Dense)             (None, 10)                330       \n",
      "                                                                 \n",
      "=================================================================\n",
      "Total params: 104938 (409.91 KB)\n",
      "Trainable params: 104938 (409.91 KB)\n",
      "Non-trainable params: 0 (0.00 Byte)\n",
      "_________________________________________________________________\n"
     ]
    }
   ],
   "source": [
    "model.summary()"
   ]
  },
  {
   "cell_type": "code",
   "execution_count": 18,
   "id": "341e38b6",
   "metadata": {},
   "outputs": [],
   "source": [
    "model.compile(loss = \"sparse_categorical_crossentropy\", optimizer = \"Adam\",metrics=[\"accuracy\"])"
   ]
  },
  {
   "cell_type": "code",
   "execution_count": 19,
   "id": "f1275035",
   "metadata": {},
   "outputs": [
    {
     "name": "stdout",
     "output_type": "stream",
     "text": [
      "Epoch 1/25\n",
      "1500/1500 [==============================] - 42s 22ms/step - loss: 0.2806 - accuracy: 0.9193 - val_loss: 0.1368 - val_accuracy: 0.9584\n",
      "Epoch 2/25\n",
      "1500/1500 [==============================] - 34s 22ms/step - loss: 0.1190 - accuracy: 0.9645 - val_loss: 0.1160 - val_accuracy: 0.9665\n",
      "Epoch 3/25\n",
      "1500/1500 [==============================] - 35s 23ms/step - loss: 0.0828 - accuracy: 0.9740 - val_loss: 0.1023 - val_accuracy: 0.9724\n",
      "Epoch 4/25\n",
      "1500/1500 [==============================] - 25s 17ms/step - loss: 0.0609 - accuracy: 0.9815 - val_loss: 0.1025 - val_accuracy: 0.9718\n",
      "Epoch 5/25\n",
      "1500/1500 [==============================] - 27s 18ms/step - loss: 0.0467 - accuracy: 0.9859 - val_loss: 0.0993 - val_accuracy: 0.9728\n",
      "Epoch 6/25\n",
      "1500/1500 [==============================] - 36s 24ms/step - loss: 0.0390 - accuracy: 0.9874 - val_loss: 0.0947 - val_accuracy: 0.9731\n",
      "Epoch 7/25\n",
      "1500/1500 [==============================] - 26s 18ms/step - loss: 0.0293 - accuracy: 0.9906 - val_loss: 0.1014 - val_accuracy: 0.9742\n",
      "Epoch 8/25\n",
      "1500/1500 [==============================] - 33s 22ms/step - loss: 0.0270 - accuracy: 0.9912 - val_loss: 0.1053 - val_accuracy: 0.9733\n",
      "Epoch 9/25\n",
      "1500/1500 [==============================] - 39s 26ms/step - loss: 0.0216 - accuracy: 0.9931 - val_loss: 0.1096 - val_accuracy: 0.9745\n",
      "Epoch 10/25\n",
      "1500/1500 [==============================] - 36s 24ms/step - loss: 0.0193 - accuracy: 0.9931 - val_loss: 0.1077 - val_accuracy: 0.9732\n",
      "Epoch 11/25\n",
      "1500/1500 [==============================] - 37s 25ms/step - loss: 0.0161 - accuracy: 0.9945 - val_loss: 0.1102 - val_accuracy: 0.9760\n",
      "Epoch 12/25\n",
      "1500/1500 [==============================] - 35s 23ms/step - loss: 0.0150 - accuracy: 0.9948 - val_loss: 0.1146 - val_accuracy: 0.9753\n",
      "Epoch 13/25\n",
      "1500/1500 [==============================] - 47s 31ms/step - loss: 0.0125 - accuracy: 0.9959 - val_loss: 0.1233 - val_accuracy: 0.9746\n",
      "Epoch 14/25\n",
      "1500/1500 [==============================] - 47s 31ms/step - loss: 0.0118 - accuracy: 0.9961 - val_loss: 0.1447 - val_accuracy: 0.9726\n",
      "Epoch 15/25\n",
      "1500/1500 [==============================] - 46s 31ms/step - loss: 0.0146 - accuracy: 0.9950 - val_loss: 0.1375 - val_accuracy: 0.9749\n",
      "Epoch 16/25\n",
      "1500/1500 [==============================] - 49s 33ms/step - loss: 0.0088 - accuracy: 0.9971 - val_loss: 0.1332 - val_accuracy: 0.9759\n",
      "Epoch 17/25\n",
      "1500/1500 [==============================] - 48s 32ms/step - loss: 0.0122 - accuracy: 0.9958 - val_loss: 0.1340 - val_accuracy: 0.9766\n",
      "Epoch 18/25\n",
      "1500/1500 [==============================] - 50s 33ms/step - loss: 0.0098 - accuracy: 0.9967 - val_loss: 0.1376 - val_accuracy: 0.9759\n",
      "Epoch 19/25\n",
      "1500/1500 [==============================] - 44s 29ms/step - loss: 0.0120 - accuracy: 0.9958 - val_loss: 0.1396 - val_accuracy: 0.9751\n",
      "Epoch 20/25\n",
      "1500/1500 [==============================] - 53s 35ms/step - loss: 0.0058 - accuracy: 0.9980 - val_loss: 0.1401 - val_accuracy: 0.9762\n",
      "Epoch 21/25\n",
      "1500/1500 [==============================] - 50s 33ms/step - loss: 0.0112 - accuracy: 0.9964 - val_loss: 0.1410 - val_accuracy: 0.9758\n",
      "Epoch 22/25\n",
      "1500/1500 [==============================] - 41s 27ms/step - loss: 0.0084 - accuracy: 0.9974 - val_loss: 0.1555 - val_accuracy: 0.9739\n",
      "Epoch 23/25\n",
      "1500/1500 [==============================] - 50s 33ms/step - loss: 0.0095 - accuracy: 0.9967 - val_loss: 0.1503 - val_accuracy: 0.9752\n",
      "Epoch 24/25\n",
      "1500/1500 [==============================] - 50s 33ms/step - loss: 0.0075 - accuracy: 0.9978 - val_loss: 0.1528 - val_accuracy: 0.9763\n",
      "Epoch 25/25\n",
      "1500/1500 [==============================] - 51s 34ms/step - loss: 0.0098 - accuracy: 0.9966 - val_loss: 0.1614 - val_accuracy: 0.9745\n"
     ]
    }
   ],
   "source": [
    "history = model.fit(X_train, y_train, epochs=25, validation_split=0.2)"
   ]
  },
  {
   "cell_type": "code",
   "execution_count": 20,
   "id": "b0c67544",
   "metadata": {},
   "outputs": [
    {
     "name": "stdout",
     "output_type": "stream",
     "text": [
      "313/313 [==============================] - 9s 19ms/step\n"
     ]
    },
    {
     "data": {
      "text/plain": [
       "array([[8.5705080e-22, 5.2019962e-18, 5.3747991e-14, ..., 9.9999994e-01,\n",
       "        2.3079226e-18, 1.1434012e-13],\n",
       "       [2.0192607e-31, 7.0313131e-17, 9.9999994e-01, ..., 7.5786271e-25,\n",
       "        1.6375035e-20, 0.0000000e+00],\n",
       "       [2.1107388e-17, 9.9999923e-01, 2.2341409e-08, ..., 4.6632397e-07,\n",
       "        3.4185093e-09, 3.8372787e-16],\n",
       "       ...,\n",
       "       [4.0510530e-27, 3.6673775e-22, 1.1139053e-22, ..., 2.1654170e-16,\n",
       "        4.7863245e-20, 1.2555405e-14],\n",
       "       [5.1860924e-23, 1.0249954e-16, 2.4204543e-18, ..., 1.7541665e-20,\n",
       "        7.1152186e-12, 1.3476398e-23],\n",
       "       [8.2055268e-24, 8.1063396e-17, 1.6616522e-15, ..., 1.1226158e-30,\n",
       "        6.5823043e-21, 7.1393288e-21]], dtype=float32)"
      ]
     },
     "execution_count": 20,
     "metadata": {},
     "output_type": "execute_result"
    }
   ],
   "source": [
    "y_prob = model.predict(X_test)\n",
    "y_prob"
   ]
  },
  {
   "cell_type": "code",
   "execution_count": 21,
   "id": "5246a7fa",
   "metadata": {},
   "outputs": [
    {
     "data": {
      "text/plain": [
       "array([7, 2, 1, ..., 4, 5, 6])"
      ]
     },
     "execution_count": 21,
     "metadata": {},
     "output_type": "execute_result"
    }
   ],
   "source": [
    "# Will give us the at wihich index prob has the max value\n",
    "y_pred = y_prob.argmax(axis = 1)\n",
    "y_pred"
   ]
  },
  {
   "cell_type": "code",
   "execution_count": 22,
   "id": "fbddedca",
   "metadata": {},
   "outputs": [
    {
     "data": {
      "text/plain": [
       "0.9768"
      ]
     },
     "execution_count": 22,
     "metadata": {},
     "output_type": "execute_result"
    }
   ],
   "source": [
    "from sklearn.metrics import accuracy_score\n",
    "accuracy_score(y_test, y_pred)"
   ]
  },
  {
   "cell_type": "code",
   "execution_count": 23,
   "id": "9b5131b5",
   "metadata": {},
   "outputs": [
    {
     "data": {
      "text/plain": [
       "[<matplotlib.lines.Line2D at 0x7fa724550e20>]"
      ]
     },
     "execution_count": 23,
     "metadata": {},
     "output_type": "execute_result"
    },
    {
     "data": {
      "image/png": "[encoded data removed]",
      "text/plain": [
       "<Figure size 640x480 with 1 Axes>"
      ]
     },
     "metadata": {},
     "output_type": "display_data"
    }
   ],
   "source": [
    "plt.plot(history.history[\"loss\"])\n",
    "plt.plot(history.history[\"val_loss\"])"
   ]
  },
  {
   "cell_type": "code",
   "execution_count": 24,
   "id": "5affa421",
   "metadata": {},
   "outputs": [
    {
     "data": {
      "text/plain": [
       "[<matplotlib.lines.Line2D at 0x7fa7245c27d0>]"
      ]
     },
     "execution_count": 24,
     "metadata": {},
     "output_type": "execute_result"
    },
    {
     "data": {
      "image/png": "[encoded data removed]",
      "text/plain": [
       "<Figure size 640x480 with 1 Axes>"
      ]
     },
     "metadata": {},
     "output_type": "display_data"
    }
   ],
   "source": [
    "plt.plot(history.history[\"accuracy\"])\n",
    "plt.plot(history.history[\"val_accuracy\"])"
   ]
  },
  {
   "cell_type": "code",
   "execution_count": 27,
   "id": "7721c6f0",
   "metadata": {},
   "outputs": [
    {
     "data": {
      "text/plain": [
       "<matplotlib.image.AxesImage at 0x7fa7248d07f0>"
      ]
     },
     "execution_count": 27,
     "metadata": {},
     "output_type": "execute_result"
    },
    {
     "data": {
      "image/png": "[encoded data removed]",
      "text/plain": [
       "<Figure size 640x480 with 1 Axes>"
      ]
     },
     "metadata": {},
     "output_type": "display_data"
    }
   ],
   "source": [
    "plt.imshow(X_test[2])"
   ]
  },
  {
   "cell_type": "code",
   "execution_count": 28,
   "id": "c08e6cdf",
   "metadata": {},
   "outputs": [
    {
     "name": "stdout",
     "output_type": "stream",
     "text": [
      "1/1 [==============================] - 0s 398ms/step\n"
     ]
    },
    {
     "data": {
      "text/plain": [
       "array([1])"
      ]
     },
     "execution_count": 28,
     "metadata": {},
     "output_type": "execute_result"
    }
   ],
   "source": [
    "model.predict(X_test[2].reshape(1,28,28)).argmax(axis = 1)"
   ]
  },
  {
   "cell_type": "code",
   "execution_count": null,
   "id": "2708923d",
   "metadata": {},
   "outputs": [],
   "source": []
  }
 ],
 "metadata": {
  "kernelspec": {
   "display_name": "Python 3 (ipykernel)",
   "language": "python",
   "name": "python3"
  },
  "language_info": {
   "codemirror_mode": {
    "name": "ipython",
    "version": 3
   },
   "file_extension": ".py",
   "mimetype": "text/x-python",
   "name": "python",
   "nbconvert_exporter": "python",
   "pygments_lexer": "ipython3",
   "version": "3.10.9"
  }
 },
 "nbformat": 4,
 "nbformat_minor": 5
}
