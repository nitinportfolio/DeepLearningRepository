{
 "cells": [
  {
   "cell_type": "markdown",
   "id": "41754cad",
   "metadata": {},
   "source": [
    "# Credit Card Customer Churn Dataset"
   ]
  },
  {
   "cell_type": "code",
   "execution_count": 25,
   "id": "1f88079c",
   "metadata": {},
   "outputs": [
    {
     "name": "stderr",
     "output_type": "stream",
     "text": [
      "2023-10-18 20:29:54.269937: I tensorflow/core/platform/cpu_feature_guard.cc:182] This TensorFlow binary is optimized to use available CPU instructions in performance-critical operations.\n",
      "To enable the following instructions: AVX2 FMA, in other operations, rebuild TensorFlow with the appropriate compiler flags.\n"
     ]
    }
   ],
   "source": [
    "import pandas as pd\n",
    "import numpy as np\n",
    "import matplotlib.pyplot as plt\n",
    "\n",
    "import tensorflow as tf"
   ]
  },
  {
   "cell_type": "code",
   "execution_count": 2,
   "id": "f4d6ed29",
   "metadata": {},
   "outputs": [],
   "source": [
    "data = pd.read_csv(\"./data/Churn_Modelling.csv\")"
   ]
  },
  {
   "cell_type": "code",
   "execution_count": 3,
   "id": "3106c7cc",
   "metadata": {},
   "outputs": [
    {
     "data": {
      "text/html": [
       "<div>\n",
       "<style scoped>\n",
       "    .dataframe tbody tr th:only-of-type {\n",
       "        vertical-align: middle;\n",
       "    }\n",
       "\n",
       "    .dataframe tbody tr th {\n",
       "        vertical-align: top;\n",
       "    }\n",
       "\n",
       "    .dataframe thead th {\n",
       "        text-align: right;\n",
       "    }\n",
       "</style>\n",
       "<table border=\"1\" class=\"dataframe\">\n",
       "  <thead>\n",
       "    <tr style=\"text-align: right;\">\n",
       "      <th></th>\n",
       "      <th>RowNumber</th>\n",
       "      <th>CustomerId</th>\n",
       "      <th>Surname</th>\n",
       "      <th>CreditScore</th>\n",
       "      <th>Geography</th>\n",
       "      <th>Gender</th>\n",
       "      <th>Age</th>\n",
       "      <th>Tenure</th>\n",
       "      <th>Balance</th>\n",
       "      <th>NumOfProducts</th>\n",
       "      <th>HasCrCard</th>\n",
       "      <th>IsActiveMember</th>\n",
       "      <th>EstimatedSalary</th>\n",
       "      <th>Exited</th>\n",
       "    </tr>\n",
       "  </thead>\n",
       "  <tbody>\n",
       "    <tr>\n",
       "      <th>0</th>\n",
       "      <td>1</td>\n",
       "      <td>15634602</td>\n",
       "      <td>Hargrave</td>\n",
       "      <td>619</td>\n",
       "      <td>France</td>\n",
       "      <td>Female</td>\n",
       "      <td>42</td>\n",
       "      <td>2</td>\n",
       "      <td>0.00</td>\n",
       "      <td>1</td>\n",
       "      <td>1</td>\n",
       "      <td>1</td>\n",
       "      <td>101348.88</td>\n",
       "      <td>1</td>\n",
       "    </tr>\n",
       "    <tr>\n",
       "      <th>1</th>\n",
       "      <td>2</td>\n",
       "      <td>15647311</td>\n",
       "      <td>Hill</td>\n",
       "      <td>608</td>\n",
       "      <td>Spain</td>\n",
       "      <td>Female</td>\n",
       "      <td>41</td>\n",
       "      <td>1</td>\n",
       "      <td>83807.86</td>\n",
       "      <td>1</td>\n",
       "      <td>0</td>\n",
       "      <td>1</td>\n",
       "      <td>112542.58</td>\n",
       "      <td>0</td>\n",
       "    </tr>\n",
       "    <tr>\n",
       "      <th>2</th>\n",
       "      <td>3</td>\n",
       "      <td>15619304</td>\n",
       "      <td>Onio</td>\n",
       "      <td>502</td>\n",
       "      <td>France</td>\n",
       "      <td>Female</td>\n",
       "      <td>42</td>\n",
       "      <td>8</td>\n",
       "      <td>159660.80</td>\n",
       "      <td>3</td>\n",
       "      <td>1</td>\n",
       "      <td>0</td>\n",
       "      <td>113931.57</td>\n",
       "      <td>1</td>\n",
       "    </tr>\n",
       "    <tr>\n",
       "      <th>3</th>\n",
       "      <td>4</td>\n",
       "      <td>15701354</td>\n",
       "      <td>Boni</td>\n",
       "      <td>699</td>\n",
       "      <td>France</td>\n",
       "      <td>Female</td>\n",
       "      <td>39</td>\n",
       "      <td>1</td>\n",
       "      <td>0.00</td>\n",
       "      <td>2</td>\n",
       "      <td>0</td>\n",
       "      <td>0</td>\n",
       "      <td>93826.63</td>\n",
       "      <td>0</td>\n",
       "    </tr>\n",
       "    <tr>\n",
       "      <th>4</th>\n",
       "      <td>5</td>\n",
       "      <td>15737888</td>\n",
       "      <td>Mitchell</td>\n",
       "      <td>850</td>\n",
       "      <td>Spain</td>\n",
       "      <td>Female</td>\n",
       "      <td>43</td>\n",
       "      <td>2</td>\n",
       "      <td>125510.82</td>\n",
       "      <td>1</td>\n",
       "      <td>1</td>\n",
       "      <td>1</td>\n",
       "      <td>79084.10</td>\n",
       "      <td>0</td>\n",
       "    </tr>\n",
       "  </tbody>\n",
       "</table>\n",
       "</div>"
      ],
      "text/plain": [
       "   RowNumber  CustomerId   Surname  CreditScore Geography  Gender  Age  \\\n",
       "0          1    15634602  Hargrave          619    France  Female   42   \n",
       "1          2    15647311      Hill          608     Spain  Female   41   \n",
       "2          3    15619304      Onio          502    France  Female   42   \n",
       "3          4    15701354      Boni          699    France  Female   39   \n",
       "4          5    15737888  Mitchell          850     Spain  Female   43   \n",
       "\n",
       "   Tenure    Balance  NumOfProducts  HasCrCard  IsActiveMember  \\\n",
       "0       2       0.00              1          1               1   \n",
       "1       1   83807.86              1          0               1   \n",
       "2       8  159660.80              3          1               0   \n",
       "3       1       0.00              2          0               0   \n",
       "4       2  125510.82              1          1               1   \n",
       "\n",
       "   EstimatedSalary  Exited  \n",
       "0        101348.88       1  \n",
       "1        112542.58       0  \n",
       "2        113931.57       1  \n",
       "3         93826.63       0  \n",
       "4         79084.10       0  "
      ]
     },
     "execution_count": 3,
     "metadata": {},
     "output_type": "execute_result"
    }
   ],
   "source": [
    "data.head()"
   ]
  },
  {
   "cell_type": "code",
   "execution_count": 4,
   "id": "604367cb",
   "metadata": {},
   "outputs": [
    {
     "data": {
      "text/plain": [
       "(10000, 14)"
      ]
     },
     "execution_count": 4,
     "metadata": {},
     "output_type": "execute_result"
    }
   ],
   "source": [
    "data.shape"
   ]
  },
  {
   "cell_type": "code",
   "execution_count": 8,
   "id": "1abb206a",
   "metadata": {},
   "outputs": [
    {
     "data": {
      "text/plain": [
       "0"
      ]
     },
     "execution_count": 8,
     "metadata": {},
     "output_type": "execute_result"
    }
   ],
   "source": [
    "# Are there any nulls\n",
    "data.isnull().sum().sum()"
   ]
  },
  {
   "cell_type": "code",
   "execution_count": 10,
   "id": "b7f053ab",
   "metadata": {},
   "outputs": [
    {
     "data": {
      "text/plain": [
       "0"
      ]
     },
     "execution_count": 10,
     "metadata": {},
     "output_type": "execute_result"
    }
   ],
   "source": [
    "# are there any duplicaterows\n",
    "data.duplicated().sum()"
   ]
  },
  {
   "cell_type": "code",
   "execution_count": 11,
   "id": "c5026389",
   "metadata": {},
   "outputs": [
    {
     "data": {
      "text/plain": [
       "France     5014\n",
       "Germany    2509\n",
       "Spain      2477\n",
       "Name: Geography, dtype: int64"
      ]
     },
     "execution_count": 11,
     "metadata": {},
     "output_type": "execute_result"
    }
   ],
   "source": [
    "data[\"Geography\"].value_counts()"
   ]
  },
  {
   "cell_type": "code",
   "execution_count": 12,
   "id": "05440a25",
   "metadata": {},
   "outputs": [
    {
     "data": {
      "text/plain": [
       "Male      5457\n",
       "Female    4543\n",
       "Name: Gender, dtype: int64"
      ]
     },
     "execution_count": 12,
     "metadata": {},
     "output_type": "execute_result"
    }
   ],
   "source": [
    "data[\"Gender\"].value_counts()"
   ]
  },
  {
   "cell_type": "code",
   "execution_count": 13,
   "id": "0d367f38",
   "metadata": {},
   "outputs": [
    {
     "data": {
      "text/plain": [
       "0    7963\n",
       "1    2037\n",
       "Name: Exited, dtype: int64"
      ]
     },
     "execution_count": 13,
     "metadata": {},
     "output_type": "execute_result"
    }
   ],
   "source": [
    "data[\"Exited\"].value_counts()"
   ]
  },
  {
   "cell_type": "code",
   "execution_count": 17,
   "id": "629407b9",
   "metadata": {},
   "outputs": [],
   "source": [
    "# Droping columns that are not required\n",
    "data.drop(columns=[\"RowNumber\",\"CustomerId\",\"Surname\"], inplace=True)"
   ]
  },
  {
   "cell_type": "code",
   "execution_count": 18,
   "id": "254aca61",
   "metadata": {},
   "outputs": [
    {
     "data": {
      "text/html": [
       "<div>\n",
       "<style scoped>\n",
       "    .dataframe tbody tr th:only-of-type {\n",
       "        vertical-align: middle;\n",
       "    }\n",
       "\n",
       "    .dataframe tbody tr th {\n",
       "        vertical-align: top;\n",
       "    }\n",
       "\n",
       "    .dataframe thead th {\n",
       "        text-align: right;\n",
       "    }\n",
       "</style>\n",
       "<table border=\"1\" class=\"dataframe\">\n",
       "  <thead>\n",
       "    <tr style=\"text-align: right;\">\n",
       "      <th></th>\n",
       "      <th>CreditScore</th>\n",
       "      <th>Geography</th>\n",
       "      <th>Gender</th>\n",
       "      <th>Age</th>\n",
       "      <th>Tenure</th>\n",
       "      <th>Balance</th>\n",
       "      <th>NumOfProducts</th>\n",
       "      <th>HasCrCard</th>\n",
       "      <th>IsActiveMember</th>\n",
       "      <th>EstimatedSalary</th>\n",
       "      <th>Exited</th>\n",
       "    </tr>\n",
       "  </thead>\n",
       "  <tbody>\n",
       "    <tr>\n",
       "      <th>0</th>\n",
       "      <td>619</td>\n",
       "      <td>France</td>\n",
       "      <td>Female</td>\n",
       "      <td>42</td>\n",
       "      <td>2</td>\n",
       "      <td>0.00</td>\n",
       "      <td>1</td>\n",
       "      <td>1</td>\n",
       "      <td>1</td>\n",
       "      <td>101348.88</td>\n",
       "      <td>1</td>\n",
       "    </tr>\n",
       "    <tr>\n",
       "      <th>1</th>\n",
       "      <td>608</td>\n",
       "      <td>Spain</td>\n",
       "      <td>Female</td>\n",
       "      <td>41</td>\n",
       "      <td>1</td>\n",
       "      <td>83807.86</td>\n",
       "      <td>1</td>\n",
       "      <td>0</td>\n",
       "      <td>1</td>\n",
       "      <td>112542.58</td>\n",
       "      <td>0</td>\n",
       "    </tr>\n",
       "    <tr>\n",
       "      <th>2</th>\n",
       "      <td>502</td>\n",
       "      <td>France</td>\n",
       "      <td>Female</td>\n",
       "      <td>42</td>\n",
       "      <td>8</td>\n",
       "      <td>159660.80</td>\n",
       "      <td>3</td>\n",
       "      <td>1</td>\n",
       "      <td>0</td>\n",
       "      <td>113931.57</td>\n",
       "      <td>1</td>\n",
       "    </tr>\n",
       "    <tr>\n",
       "      <th>3</th>\n",
       "      <td>699</td>\n",
       "      <td>France</td>\n",
       "      <td>Female</td>\n",
       "      <td>39</td>\n",
       "      <td>1</td>\n",
       "      <td>0.00</td>\n",
       "      <td>2</td>\n",
       "      <td>0</td>\n",
       "      <td>0</td>\n",
       "      <td>93826.63</td>\n",
       "      <td>0</td>\n",
       "    </tr>\n",
       "    <tr>\n",
       "      <th>4</th>\n",
       "      <td>850</td>\n",
       "      <td>Spain</td>\n",
       "      <td>Female</td>\n",
       "      <td>43</td>\n",
       "      <td>2</td>\n",
       "      <td>125510.82</td>\n",
       "      <td>1</td>\n",
       "      <td>1</td>\n",
       "      <td>1</td>\n",
       "      <td>79084.10</td>\n",
       "      <td>0</td>\n",
       "    </tr>\n",
       "  </tbody>\n",
       "</table>\n",
       "</div>"
      ],
      "text/plain": [
       "   CreditScore Geography  Gender  Age  Tenure    Balance  NumOfProducts  \\\n",
       "0          619    France  Female   42       2       0.00              1   \n",
       "1          608     Spain  Female   41       1   83807.86              1   \n",
       "2          502    France  Female   42       8  159660.80              3   \n",
       "3          699    France  Female   39       1       0.00              2   \n",
       "4          850     Spain  Female   43       2  125510.82              1   \n",
       "\n",
       "   HasCrCard  IsActiveMember  EstimatedSalary  Exited  \n",
       "0          1               1        101348.88       1  \n",
       "1          0               1        112542.58       0  \n",
       "2          1               0        113931.57       1  \n",
       "3          0               0         93826.63       0  \n",
       "4          1               1         79084.10       0  "
      ]
     },
     "execution_count": 18,
     "metadata": {},
     "output_type": "execute_result"
    }
   ],
   "source": [
    "data.head()"
   ]
  },
  {
   "cell_type": "code",
   "execution_count": 19,
   "id": "8dfa87fa",
   "metadata": {},
   "outputs": [],
   "source": [
    "# Converting categorical into One hot encoding\n",
    "data = pd.get_dummies(data, columns=[\"Geography\",\"Gender\"], drop_first=True)"
   ]
  },
  {
   "cell_type": "code",
   "execution_count": 20,
   "id": "f30f5d08",
   "metadata": {},
   "outputs": [
    {
     "data": {
      "text/html": [
       "<div>\n",
       "<style scoped>\n",
       "    .dataframe tbody tr th:only-of-type {\n",
       "        vertical-align: middle;\n",
       "    }\n",
       "\n",
       "    .dataframe tbody tr th {\n",
       "        vertical-align: top;\n",
       "    }\n",
       "\n",
       "    .dataframe thead th {\n",
       "        text-align: right;\n",
       "    }\n",
       "</style>\n",
       "<table border=\"1\" class=\"dataframe\">\n",
       "  <thead>\n",
       "    <tr style=\"text-align: right;\">\n",
       "      <th></th>\n",
       "      <th>CreditScore</th>\n",
       "      <th>Age</th>\n",
       "      <th>Tenure</th>\n",
       "      <th>Balance</th>\n",
       "      <th>NumOfProducts</th>\n",
       "      <th>HasCrCard</th>\n",
       "      <th>IsActiveMember</th>\n",
       "      <th>EstimatedSalary</th>\n",
       "      <th>Exited</th>\n",
       "      <th>Geography_Germany</th>\n",
       "      <th>Geography_Spain</th>\n",
       "      <th>Gender_Male</th>\n",
       "    </tr>\n",
       "  </thead>\n",
       "  <tbody>\n",
       "    <tr>\n",
       "      <th>0</th>\n",
       "      <td>619</td>\n",
       "      <td>42</td>\n",
       "      <td>2</td>\n",
       "      <td>0.00</td>\n",
       "      <td>1</td>\n",
       "      <td>1</td>\n",
       "      <td>1</td>\n",
       "      <td>101348.88</td>\n",
       "      <td>1</td>\n",
       "      <td>0</td>\n",
       "      <td>0</td>\n",
       "      <td>0</td>\n",
       "    </tr>\n",
       "    <tr>\n",
       "      <th>1</th>\n",
       "      <td>608</td>\n",
       "      <td>41</td>\n",
       "      <td>1</td>\n",
       "      <td>83807.86</td>\n",
       "      <td>1</td>\n",
       "      <td>0</td>\n",
       "      <td>1</td>\n",
       "      <td>112542.58</td>\n",
       "      <td>0</td>\n",
       "      <td>0</td>\n",
       "      <td>1</td>\n",
       "      <td>0</td>\n",
       "    </tr>\n",
       "    <tr>\n",
       "      <th>2</th>\n",
       "      <td>502</td>\n",
       "      <td>42</td>\n",
       "      <td>8</td>\n",
       "      <td>159660.80</td>\n",
       "      <td>3</td>\n",
       "      <td>1</td>\n",
       "      <td>0</td>\n",
       "      <td>113931.57</td>\n",
       "      <td>1</td>\n",
       "      <td>0</td>\n",
       "      <td>0</td>\n",
       "      <td>0</td>\n",
       "    </tr>\n",
       "    <tr>\n",
       "      <th>3</th>\n",
       "      <td>699</td>\n",
       "      <td>39</td>\n",
       "      <td>1</td>\n",
       "      <td>0.00</td>\n",
       "      <td>2</td>\n",
       "      <td>0</td>\n",
       "      <td>0</td>\n",
       "      <td>93826.63</td>\n",
       "      <td>0</td>\n",
       "      <td>0</td>\n",
       "      <td>0</td>\n",
       "      <td>0</td>\n",
       "    </tr>\n",
       "    <tr>\n",
       "      <th>4</th>\n",
       "      <td>850</td>\n",
       "      <td>43</td>\n",
       "      <td>2</td>\n",
       "      <td>125510.82</td>\n",
       "      <td>1</td>\n",
       "      <td>1</td>\n",
       "      <td>1</td>\n",
       "      <td>79084.10</td>\n",
       "      <td>0</td>\n",
       "      <td>0</td>\n",
       "      <td>1</td>\n",
       "      <td>0</td>\n",
       "    </tr>\n",
       "  </tbody>\n",
       "</table>\n",
       "</div>"
      ],
      "text/plain": [
       "   CreditScore  Age  Tenure    Balance  NumOfProducts  HasCrCard  \\\n",
       "0          619   42       2       0.00              1          1   \n",
       "1          608   41       1   83807.86              1          0   \n",
       "2          502   42       8  159660.80              3          1   \n",
       "3          699   39       1       0.00              2          0   \n",
       "4          850   43       2  125510.82              1          1   \n",
       "\n",
       "   IsActiveMember  EstimatedSalary  Exited  Geography_Germany  \\\n",
       "0               1        101348.88       1                  0   \n",
       "1               1        112542.58       0                  0   \n",
       "2               0        113931.57       1                  0   \n",
       "3               0         93826.63       0                  0   \n",
       "4               1         79084.10       0                  0   \n",
       "\n",
       "   Geography_Spain  Gender_Male  \n",
       "0                0            0  \n",
       "1                1            0  \n",
       "2                0            0  \n",
       "3                0            0  \n",
       "4                1            0  "
      ]
     },
     "execution_count": 20,
     "metadata": {},
     "output_type": "execute_result"
    }
   ],
   "source": [
    "data.head()"
   ]
  },
  {
   "cell_type": "code",
   "execution_count": 21,
   "id": "a722aed7",
   "metadata": {},
   "outputs": [],
   "source": [
    "from sklearn.model_selection import train_test_split"
   ]
  },
  {
   "cell_type": "code",
   "execution_count": 22,
   "id": "8fa7619e",
   "metadata": {},
   "outputs": [],
   "source": [
    "# Splitting data into train & test\n",
    "X = data.drop(columns=\"Exited\")\n",
    "y = data[\"Exited\"]\n",
    "X_train, X_test, y_train, y_test = train_test_split(X,y, test_size=0.2, random_state=101)"
   ]
  },
  {
   "cell_type": "code",
   "execution_count": 23,
   "id": "7bb6191c",
   "metadata": {},
   "outputs": [
    {
     "data": {
      "text/plain": [
       "((8000, 11), (2000, 11))"
      ]
     },
     "execution_count": 23,
     "metadata": {},
     "output_type": "execute_result"
    }
   ],
   "source": [
    "X_train.shape, X_test.shape"
   ]
  },
  {
   "cell_type": "code",
   "execution_count": 24,
   "id": "8030aee6",
   "metadata": {},
   "outputs": [],
   "source": [
    "# Scaling data for better performance & better convergence\n",
    "from sklearn.preprocessing import StandardScaler\n",
    "scaler = StandardScaler()\n",
    "X_train_scaled = scaler.fit_transform(X_train)\n",
    "X_test_scaled = scaler.transform(X_test)"
   ]
  },
  {
   "cell_type": "code",
   "execution_count": 27,
   "id": "ffa159c0",
   "metadata": {},
   "outputs": [],
   "source": [
    "from tensorflow import keras\n",
    "from tensorflow.keras import Sequential\n",
    "from tensorflow.keras.layers import Dense"
   ]
  },
  {
   "cell_type": "code",
   "execution_count": 28,
   "id": "7eeaf5ed",
   "metadata": {},
   "outputs": [
    {
     "data": {
      "text/plain": [
       "(8000, 11)"
      ]
     },
     "execution_count": 28,
     "metadata": {},
     "output_type": "execute_result"
    }
   ],
   "source": [
    "X_train.shape"
   ]
  },
  {
   "cell_type": "code",
   "execution_count": 30,
   "id": "e927a097",
   "metadata": {},
   "outputs": [],
   "source": [
    "model = Sequential()\n",
    "\n",
    "model.add(Dense(3, activation = \"sigmoid\", input_dim = 11))\n",
    "model.add(Dense(1, activation=\"sigmoid\"))"
   ]
  },
  {
   "cell_type": "code",
   "execution_count": 31,
   "id": "11bee568",
   "metadata": {},
   "outputs": [
    {
     "name": "stdout",
     "output_type": "stream",
     "text": [
      "Model: \"sequential_1\"\n",
      "_________________________________________________________________\n",
      " Layer (type)                Output Shape              Param #   \n",
      "=================================================================\n",
      " dense_2 (Dense)             (None, 3)                 36        \n",
      "                                                                 \n",
      " dense_3 (Dense)             (None, 1)                 4         \n",
      "                                                                 \n",
      "=================================================================\n",
      "Total params: 40 (160.00 Byte)\n",
      "Trainable params: 40 (160.00 Byte)\n",
      "Non-trainable params: 0 (0.00 Byte)\n",
      "_________________________________________________________________\n"
     ]
    }
   ],
   "source": [
    "model.summary()"
   ]
  },
  {
   "cell_type": "code",
   "execution_count": 34,
   "id": "3969e6f4",
   "metadata": {},
   "outputs": [
    {
     "data": {
      "text/plain": [
       "40"
      ]
     },
     "execution_count": 34,
     "metadata": {},
     "output_type": "execute_result"
    }
   ],
   "source": [
    "((11*3)+3)+(3*1+1)"
   ]
  },
  {
   "cell_type": "code",
   "execution_count": 35,
   "id": "af6eaa8b",
   "metadata": {},
   "outputs": [],
   "source": [
    "# Compiling out model\n",
    "model.compile(loss = \"binary_crossentropy\", optimizer = \"Adam\")"
   ]
  },
  {
   "cell_type": "code",
   "execution_count": 36,
   "id": "ab193f41",
   "metadata": {},
   "outputs": [
    {
     "name": "stdout",
     "output_type": "stream",
     "text": [
      "Epoch 1/10\n",
      "250/250 [==============================] - 11s 17ms/step - loss: 0.5639\n",
      "Epoch 2/10\n",
      "250/250 [==============================] - 2s 10ms/step - loss: 0.4947\n",
      "Epoch 3/10\n",
      "250/250 [==============================] - 2s 10ms/step - loss: 0.4677\n",
      "Epoch 4/10\n",
      "250/250 [==============================] - 3s 11ms/step - loss: 0.4548\n",
      "Epoch 5/10\n",
      "250/250 [==============================] - 2s 9ms/step - loss: 0.4468\n",
      "Epoch 6/10\n",
      "250/250 [==============================] - 4s 16ms/step - loss: 0.4411\n",
      "Epoch 7/10\n",
      "250/250 [==============================] - 3s 12ms/step - loss: 0.4369\n",
      "Epoch 8/10\n",
      "250/250 [==============================] - 3s 12ms/step - loss: 0.4336\n",
      "Epoch 9/10\n",
      "250/250 [==============================] - 3s 11ms/step - loss: 0.4311\n",
      "Epoch 10/10\n",
      "250/250 [==============================] - 3s 10ms/step - loss: 0.4290\n"
     ]
    },
    {
     "data": {
      "text/plain": [
       "<keras.src.callbacks.History at 0x7fdb04323bb0>"
      ]
     },
     "execution_count": 36,
     "metadata": {},
     "output_type": "execute_result"
    }
   ],
   "source": [
    "model.fit(X_train_scaled, y_train, epochs=10)"
   ]
  },
  {
   "cell_type": "code",
   "execution_count": 40,
   "id": "7c157cff",
   "metadata": {},
   "outputs": [
    {
     "data": {
      "text/plain": [
       "[array([[ 0.08692151,  0.1398014 ,  0.11533149],\n",
       "        [-2.0470455 , -0.86284393, -1.6993681 ],\n",
       "        [ 0.16693772, -0.00507745, -0.14818384],\n",
       "        [ 0.00629154, -0.47147766, -0.20164192],\n",
       "        [ 0.334287  ,  0.08253974, -0.08427023],\n",
       "        [-0.04057381, -0.081267  ,  0.18159647],\n",
       "        [ 0.2377564 ,  0.96860427,  0.66805774],\n",
       "        [-0.07580163,  0.01263183, -0.33043334],\n",
       "        [-0.5619601 , -0.63758886, -0.7525484 ],\n",
       "        [-0.18318634,  0.07039893,  0.15260053],\n",
       "        [ 0.4499718 ,  0.3767864 ,  0.42550054]], dtype=float32),\n",
       " array([ 0.28932184,  0.27043307, -0.07947934], dtype=float32)]"
      ]
     },
     "execution_count": 40,
     "metadata": {},
     "output_type": "execute_result"
    }
   ],
   "source": [
    "# Looking at the weights & bias values trained on layer 0\n",
    "model.layers[0].get_weights()"
   ]
  },
  {
   "cell_type": "code",
   "execution_count": 41,
   "id": "c8f1cb4d",
   "metadata": {},
   "outputs": [
    {
     "data": {
      "text/plain": [
       "[array([[-1.1158713 ],\n",
       "        [-1.2298144 ],\n",
       "        [-0.48081318]], dtype=float32),\n",
       " array([-0.0757112], dtype=float32)]"
      ]
     },
     "execution_count": 41,
     "metadata": {},
     "output_type": "execute_result"
    }
   ],
   "source": [
    "model.layers[1].get_weights()"
   ]
  },
  {
   "cell_type": "code",
   "execution_count": 43,
   "id": "93e561a3",
   "metadata": {},
   "outputs": [
    {
     "name": "stdout",
     "output_type": "stream",
     "text": [
      "63/63 [==============================] - 1s 12ms/step\n"
     ]
    },
    {
     "data": {
      "text/plain": [
       "array([[0.18157049],\n",
       "       [0.05612933],\n",
       "       [0.2378444 ],\n",
       "       ...,\n",
       "       [0.1584682 ],\n",
       "       [0.08765488],\n",
       "       [0.42469102]], dtype=float32)"
      ]
     },
     "execution_count": 43,
     "metadata": {},
     "output_type": "execute_result"
    }
   ],
   "source": [
    "# looking at the rpedicted values\n",
    "y_prob = model.predict(X_test_scaled)\n",
    "y_prob"
   ]
  },
  {
   "cell_type": "code",
   "execution_count": 44,
   "id": "4fa8123b",
   "metadata": {},
   "outputs": [],
   "source": [
    "y_pred = np.where(y_prob>0.5,1,0)"
   ]
  },
  {
   "cell_type": "code",
   "execution_count": 45,
   "id": "869e5bf8",
   "metadata": {},
   "outputs": [
    {
     "data": {
      "text/plain": [
       "array([[0],\n",
       "       [0],\n",
       "       [0],\n",
       "       ...,\n",
       "       [0],\n",
       "       [0],\n",
       "       [0]])"
      ]
     },
     "execution_count": 45,
     "metadata": {},
     "output_type": "execute_result"
    }
   ],
   "source": [
    "y_pred"
   ]
  },
  {
   "cell_type": "code",
   "execution_count": 46,
   "id": "9f3d2f3d",
   "metadata": {},
   "outputs": [],
   "source": [
    "from sklearn.metrics import accuracy_score"
   ]
  },
  {
   "cell_type": "code",
   "execution_count": 47,
   "id": "9ad72592",
   "metadata": {},
   "outputs": [
    {
     "data": {
      "text/plain": [
       "0.7885"
      ]
     },
     "execution_count": 47,
     "metadata": {},
     "output_type": "execute_result"
    }
   ],
   "source": [
    "accuracy_score(y_test, y_pred)"
   ]
  },
  {
   "cell_type": "code",
   "execution_count": 48,
   "id": "b4caf042",
   "metadata": {},
   "outputs": [],
   "source": [
    "# Lets try to build more sturdy model\n",
    "model2 = Sequential()\n",
    "\n",
    "model2.add(Dense(11, activation = \"relu\", input_dim = 11))\n",
    "model2.add(Dense(11, activation=\"relu\"))\n",
    "model2.add(Dense(1, activation=\"sigmoid\"))"
   ]
  },
  {
   "cell_type": "code",
   "execution_count": 49,
   "id": "3fb590ab",
   "metadata": {},
   "outputs": [
    {
     "name": "stdout",
     "output_type": "stream",
     "text": [
      "Model: \"sequential_2\"\n",
      "_________________________________________________________________\n",
      " Layer (type)                Output Shape              Param #   \n",
      "=================================================================\n",
      " dense_4 (Dense)             (None, 11)                132       \n",
      "                                                                 \n",
      " dense_5 (Dense)             (None, 11)                132       \n",
      "                                                                 \n",
      " dense_6 (Dense)             (None, 1)                 12        \n",
      "                                                                 \n",
      "=================================================================\n",
      "Total params: 276 (1.08 KB)\n",
      "Trainable params: 276 (1.08 KB)\n",
      "Non-trainable params: 0 (0.00 Byte)\n",
      "_________________________________________________________________\n"
     ]
    }
   ],
   "source": [
    "model2.summary()"
   ]
  },
  {
   "cell_type": "code",
   "execution_count": 50,
   "id": "c5f2acbb",
   "metadata": {},
   "outputs": [],
   "source": [
    "# Compiling out model\n",
    "model2.compile(loss = \"binary_crossentropy\", optimizer = \"Adam\", metrics=[\"accuracy\"])"
   ]
  },
  {
   "cell_type": "code",
   "execution_count": 51,
   "id": "abef82a2",
   "metadata": {},
   "outputs": [
    {
     "name": "stdout",
     "output_type": "stream",
     "text": [
      "Epoch 1/100\n",
      "200/200 [==============================] - 17s 42ms/step - loss: 0.5002 - accuracy: 0.7853 - val_loss: 0.4356 - val_accuracy: 0.8031\n",
      "Epoch 2/100\n",
      "200/200 [==============================] - 4s 21ms/step - loss: 0.4444 - accuracy: 0.8016 - val_loss: 0.4182 - val_accuracy: 0.8144\n",
      "Epoch 3/100\n",
      "200/200 [==============================] - 4s 20ms/step - loss: 0.4291 - accuracy: 0.8050 - val_loss: 0.4058 - val_accuracy: 0.8213\n",
      "Epoch 4/100\n",
      "200/200 [==============================] - 5s 22ms/step - loss: 0.4176 - accuracy: 0.8128 - val_loss: 0.3954 - val_accuracy: 0.8363\n",
      "Epoch 5/100\n",
      "200/200 [==============================] - 4s 21ms/step - loss: 0.4057 - accuracy: 0.8241 - val_loss: 0.3842 - val_accuracy: 0.8394\n",
      "Epoch 6/100\n",
      "200/200 [==============================] - 5s 26ms/step - loss: 0.3928 - accuracy: 0.8333 - val_loss: 0.3717 - val_accuracy: 0.8481\n",
      "Epoch 7/100\n",
      "200/200 [==============================] - 6s 28ms/step - loss: 0.3812 - accuracy: 0.8408 - val_loss: 0.3636 - val_accuracy: 0.8456\n",
      "Epoch 8/100\n",
      "200/200 [==============================] - 4s 22ms/step - loss: 0.3708 - accuracy: 0.8452 - val_loss: 0.3567 - val_accuracy: 0.8537\n",
      "Epoch 9/100\n",
      "200/200 [==============================] - 5s 26ms/step - loss: 0.3652 - accuracy: 0.8475 - val_loss: 0.3513 - val_accuracy: 0.8562\n",
      "Epoch 10/100\n",
      "200/200 [==============================] - 4s 21ms/step - loss: 0.3604 - accuracy: 0.8502 - val_loss: 0.3485 - val_accuracy: 0.8606\n",
      "Epoch 11/100\n",
      "200/200 [==============================] - 3s 14ms/step - loss: 0.3567 - accuracy: 0.8503 - val_loss: 0.3439 - val_accuracy: 0.8631\n",
      "Epoch 12/100\n",
      "200/200 [==============================] - 3s 15ms/step - loss: 0.3543 - accuracy: 0.8533 - val_loss: 0.3431 - val_accuracy: 0.8619\n",
      "Epoch 13/100\n",
      "200/200 [==============================] - 3s 17ms/step - loss: 0.3517 - accuracy: 0.8533 - val_loss: 0.3422 - val_accuracy: 0.8631\n",
      "Epoch 14/100\n",
      "200/200 [==============================] - 3s 14ms/step - loss: 0.3507 - accuracy: 0.8542 - val_loss: 0.3432 - val_accuracy: 0.8625\n",
      "Epoch 15/100\n",
      "200/200 [==============================] - 3s 14ms/step - loss: 0.3487 - accuracy: 0.8537 - val_loss: 0.3442 - val_accuracy: 0.8650\n",
      "Epoch 16/100\n",
      "200/200 [==============================] - 5s 23ms/step - loss: 0.3480 - accuracy: 0.8552 - val_loss: 0.3410 - val_accuracy: 0.8644\n",
      "Epoch 17/100\n",
      "200/200 [==============================] - 3s 14ms/step - loss: 0.3466 - accuracy: 0.8566 - val_loss: 0.3438 - val_accuracy: 0.8612\n",
      "Epoch 18/100\n",
      "200/200 [==============================] - 3s 16ms/step - loss: 0.3457 - accuracy: 0.8545 - val_loss: 0.3412 - val_accuracy: 0.8612\n",
      "Epoch 19/100\n",
      "200/200 [==============================] - 3s 16ms/step - loss: 0.3450 - accuracy: 0.8575 - val_loss: 0.3441 - val_accuracy: 0.8600\n",
      "Epoch 20/100\n",
      "200/200 [==============================] - 3s 14ms/step - loss: 0.3441 - accuracy: 0.8559 - val_loss: 0.3403 - val_accuracy: 0.8625\n",
      "Epoch 21/100\n",
      "200/200 [==============================] - 3s 16ms/step - loss: 0.3437 - accuracy: 0.8581 - val_loss: 0.3431 - val_accuracy: 0.8625\n",
      "Epoch 22/100\n",
      "200/200 [==============================] - 4s 18ms/step - loss: 0.3429 - accuracy: 0.8587 - val_loss: 0.3413 - val_accuracy: 0.8625\n",
      "Epoch 23/100\n",
      "200/200 [==============================] - 3s 15ms/step - loss: 0.3424 - accuracy: 0.8561 - val_loss: 0.3409 - val_accuracy: 0.8606\n",
      "Epoch 24/100\n",
      "200/200 [==============================] - 5s 23ms/step - loss: 0.3415 - accuracy: 0.8577 - val_loss: 0.3415 - val_accuracy: 0.8619\n",
      "Epoch 25/100\n",
      "200/200 [==============================] - 5s 25ms/step - loss: 0.3411 - accuracy: 0.8592 - val_loss: 0.3426 - val_accuracy: 0.8625\n",
      "Epoch 26/100\n",
      "200/200 [==============================] - 5s 25ms/step - loss: 0.3410 - accuracy: 0.8583 - val_loss: 0.3408 - val_accuracy: 0.8606\n",
      "Epoch 27/100\n",
      "200/200 [==============================] - 4s 21ms/step - loss: 0.3406 - accuracy: 0.8591 - val_loss: 0.3421 - val_accuracy: 0.8606\n",
      "Epoch 28/100\n",
      "200/200 [==============================] - 5s 25ms/step - loss: 0.3403 - accuracy: 0.8605 - val_loss: 0.3410 - val_accuracy: 0.8637\n",
      "Epoch 29/100\n",
      "200/200 [==============================] - 5s 24ms/step - loss: 0.3398 - accuracy: 0.8592 - val_loss: 0.3428 - val_accuracy: 0.8612\n",
      "Epoch 30/100\n",
      "200/200 [==============================] - 5s 24ms/step - loss: 0.3391 - accuracy: 0.8578 - val_loss: 0.3432 - val_accuracy: 0.8619\n",
      "Epoch 31/100\n",
      "200/200 [==============================] - 5s 23ms/step - loss: 0.3389 - accuracy: 0.8591 - val_loss: 0.3454 - val_accuracy: 0.8625\n",
      "Epoch 32/100\n",
      "200/200 [==============================] - 5s 26ms/step - loss: 0.3384 - accuracy: 0.8614 - val_loss: 0.3439 - val_accuracy: 0.8594\n",
      "Epoch 33/100\n",
      "200/200 [==============================] - 4s 21ms/step - loss: 0.3377 - accuracy: 0.8600 - val_loss: 0.3423 - val_accuracy: 0.8600\n",
      "Epoch 34/100\n",
      "200/200 [==============================] - 6s 31ms/step - loss: 0.3375 - accuracy: 0.8612 - val_loss: 0.3449 - val_accuracy: 0.8594\n",
      "Epoch 35/100\n",
      "200/200 [==============================] - 4s 20ms/step - loss: 0.3374 - accuracy: 0.8606 - val_loss: 0.3480 - val_accuracy: 0.8612\n",
      "Epoch 36/100\n",
      "200/200 [==============================] - 3s 16ms/step - loss: 0.3372 - accuracy: 0.8608 - val_loss: 0.3444 - val_accuracy: 0.8625\n",
      "Epoch 37/100\n",
      "200/200 [==============================] - 4s 18ms/step - loss: 0.3367 - accuracy: 0.8598 - val_loss: 0.3457 - val_accuracy: 0.8594\n",
      "Epoch 38/100\n",
      "200/200 [==============================] - 3s 16ms/step - loss: 0.3363 - accuracy: 0.8602 - val_loss: 0.3467 - val_accuracy: 0.8600\n",
      "Epoch 39/100\n",
      "200/200 [==============================] - 3s 16ms/step - loss: 0.3366 - accuracy: 0.8612 - val_loss: 0.3439 - val_accuracy: 0.8606\n",
      "Epoch 40/100\n",
      "200/200 [==============================] - 3s 16ms/step - loss: 0.3359 - accuracy: 0.8609 - val_loss: 0.3454 - val_accuracy: 0.8619\n",
      "Epoch 41/100\n",
      "200/200 [==============================] - 3s 15ms/step - loss: 0.3354 - accuracy: 0.8612 - val_loss: 0.3459 - val_accuracy: 0.8612\n",
      "Epoch 42/100\n",
      "200/200 [==============================] - 4s 20ms/step - loss: 0.3354 - accuracy: 0.8609 - val_loss: 0.3456 - val_accuracy: 0.8606\n",
      "Epoch 43/100\n",
      "200/200 [==============================] - 5s 25ms/step - loss: 0.3351 - accuracy: 0.8611 - val_loss: 0.3442 - val_accuracy: 0.8612\n",
      "Epoch 44/100\n",
      "200/200 [==============================] - 5s 25ms/step - loss: 0.3346 - accuracy: 0.8622 - val_loss: 0.3456 - val_accuracy: 0.8619\n",
      "Epoch 45/100\n",
      "200/200 [==============================] - 6s 28ms/step - loss: 0.3343 - accuracy: 0.8611 - val_loss: 0.3445 - val_accuracy: 0.8612\n",
      "Epoch 46/100\n",
      "200/200 [==============================] - 6s 28ms/step - loss: 0.3343 - accuracy: 0.8630 - val_loss: 0.3448 - val_accuracy: 0.8612\n",
      "Epoch 47/100\n",
      "200/200 [==============================] - 5s 23ms/step - loss: 0.3336 - accuracy: 0.8617 - val_loss: 0.3462 - val_accuracy: 0.8594\n",
      "Epoch 48/100\n",
      "200/200 [==============================] - 5s 24ms/step - loss: 0.3341 - accuracy: 0.8611 - val_loss: 0.3457 - val_accuracy: 0.8612\n",
      "Epoch 49/100\n",
      "200/200 [==============================] - 4s 21ms/step - loss: 0.3329 - accuracy: 0.8628 - val_loss: 0.3450 - val_accuracy: 0.8600\n",
      "Epoch 50/100\n",
      "200/200 [==============================] - 3s 17ms/step - loss: 0.3331 - accuracy: 0.8630 - val_loss: 0.3472 - val_accuracy: 0.8587\n",
      "Epoch 51/100\n",
      "200/200 [==============================] - 4s 20ms/step - loss: 0.3325 - accuracy: 0.8639 - val_loss: 0.3455 - val_accuracy: 0.8594\n",
      "Epoch 52/100\n",
      "200/200 [==============================] - 4s 19ms/step - loss: 0.3328 - accuracy: 0.8619 - val_loss: 0.3461 - val_accuracy: 0.8581\n",
      "Epoch 53/100\n",
      "200/200 [==============================] - 5s 27ms/step - loss: 0.3324 - accuracy: 0.8628 - val_loss: 0.3478 - val_accuracy: 0.8600\n",
      "Epoch 54/100\n",
      "200/200 [==============================] - 5s 24ms/step - loss: 0.3327 - accuracy: 0.8625 - val_loss: 0.3459 - val_accuracy: 0.8606\n",
      "Epoch 55/100\n",
      "200/200 [==============================] - 5s 23ms/step - loss: 0.3321 - accuracy: 0.8631 - val_loss: 0.3475 - val_accuracy: 0.8594\n",
      "Epoch 56/100\n",
      "200/200 [==============================] - 4s 19ms/step - loss: 0.3321 - accuracy: 0.8619 - val_loss: 0.3505 - val_accuracy: 0.8544\n",
      "Epoch 57/100\n"
     ]
    },
    {
     "name": "stdout",
     "output_type": "stream",
     "text": [
      "200/200 [==============================] - 3s 17ms/step - loss: 0.3318 - accuracy: 0.8616 - val_loss: 0.3482 - val_accuracy: 0.8562\n",
      "Epoch 58/100\n",
      "200/200 [==============================] - 4s 18ms/step - loss: 0.3323 - accuracy: 0.8612 - val_loss: 0.3463 - val_accuracy: 0.8556\n",
      "Epoch 59/100\n",
      "200/200 [==============================] - 3s 15ms/step - loss: 0.3320 - accuracy: 0.8623 - val_loss: 0.3476 - val_accuracy: 0.8556\n",
      "Epoch 60/100\n",
      "200/200 [==============================] - 3s 17ms/step - loss: 0.3311 - accuracy: 0.8625 - val_loss: 0.3481 - val_accuracy: 0.8575\n",
      "Epoch 61/100\n",
      "200/200 [==============================] - 3s 17ms/step - loss: 0.3311 - accuracy: 0.8622 - val_loss: 0.3489 - val_accuracy: 0.8612\n",
      "Epoch 62/100\n",
      "200/200 [==============================] - 4s 20ms/step - loss: 0.3310 - accuracy: 0.8641 - val_loss: 0.3474 - val_accuracy: 0.8600\n",
      "Epoch 63/100\n",
      "200/200 [==============================] - 4s 22ms/step - loss: 0.3313 - accuracy: 0.8609 - val_loss: 0.3459 - val_accuracy: 0.8587\n",
      "Epoch 64/100\n",
      "200/200 [==============================] - 5s 27ms/step - loss: 0.3301 - accuracy: 0.8639 - val_loss: 0.3472 - val_accuracy: 0.8600\n",
      "Epoch 65/100\n",
      "200/200 [==============================] - 5s 24ms/step - loss: 0.3301 - accuracy: 0.8620 - val_loss: 0.3493 - val_accuracy: 0.8562\n",
      "Epoch 66/100\n",
      "200/200 [==============================] - 5s 23ms/step - loss: 0.3307 - accuracy: 0.8602 - val_loss: 0.3479 - val_accuracy: 0.8600\n",
      "Epoch 67/100\n",
      "200/200 [==============================] - 3s 17ms/step - loss: 0.3300 - accuracy: 0.8636 - val_loss: 0.3476 - val_accuracy: 0.8594\n",
      "Epoch 68/100\n",
      "200/200 [==============================] - 4s 21ms/step - loss: 0.3293 - accuracy: 0.8637 - val_loss: 0.3503 - val_accuracy: 0.8556\n",
      "Epoch 69/100\n",
      "200/200 [==============================] - 4s 19ms/step - loss: 0.3302 - accuracy: 0.8630 - val_loss: 0.3478 - val_accuracy: 0.8569\n",
      "Epoch 70/100\n",
      "200/200 [==============================] - 4s 22ms/step - loss: 0.3295 - accuracy: 0.8616 - val_loss: 0.3462 - val_accuracy: 0.8600\n",
      "Epoch 71/100\n",
      "200/200 [==============================] - 4s 19ms/step - loss: 0.3294 - accuracy: 0.8628 - val_loss: 0.3467 - val_accuracy: 0.8587\n",
      "Epoch 72/100\n",
      "200/200 [==============================] - 4s 21ms/step - loss: 0.3293 - accuracy: 0.8623 - val_loss: 0.3487 - val_accuracy: 0.8600\n",
      "Epoch 73/100\n",
      "200/200 [==============================] - 4s 18ms/step - loss: 0.3289 - accuracy: 0.8639 - val_loss: 0.3474 - val_accuracy: 0.8575\n",
      "Epoch 74/100\n",
      "200/200 [==============================] - 3s 15ms/step - loss: 0.3292 - accuracy: 0.8639 - val_loss: 0.3458 - val_accuracy: 0.8594\n",
      "Epoch 75/100\n",
      "200/200 [==============================] - 3s 16ms/step - loss: 0.3285 - accuracy: 0.8628 - val_loss: 0.3478 - val_accuracy: 0.8569\n",
      "Epoch 76/100\n",
      "200/200 [==============================] - 3s 16ms/step - loss: 0.3281 - accuracy: 0.8637 - val_loss: 0.3477 - val_accuracy: 0.8569\n",
      "Epoch 77/100\n",
      "200/200 [==============================] - 3s 15ms/step - loss: 0.3284 - accuracy: 0.8625 - val_loss: 0.3491 - val_accuracy: 0.8569\n",
      "Epoch 78/100\n",
      "200/200 [==============================] - 3s 14ms/step - loss: 0.3277 - accuracy: 0.8636 - val_loss: 0.3470 - val_accuracy: 0.8587\n",
      "Epoch 79/100\n",
      "200/200 [==============================] - 3s 16ms/step - loss: 0.3282 - accuracy: 0.8630 - val_loss: 0.3489 - val_accuracy: 0.8575\n",
      "Epoch 80/100\n",
      "200/200 [==============================] - 5s 25ms/step - loss: 0.3284 - accuracy: 0.8634 - val_loss: 0.3503 - val_accuracy: 0.8581\n",
      "Epoch 81/100\n",
      "200/200 [==============================] - 5s 27ms/step - loss: 0.3280 - accuracy: 0.8630 - val_loss: 0.3482 - val_accuracy: 0.8562\n",
      "Epoch 82/100\n",
      "200/200 [==============================] - 5s 26ms/step - loss: 0.3276 - accuracy: 0.8652 - val_loss: 0.3471 - val_accuracy: 0.8587\n",
      "Epoch 83/100\n",
      "200/200 [==============================] - 5s 26ms/step - loss: 0.3270 - accuracy: 0.8631 - val_loss: 0.3485 - val_accuracy: 0.8575\n",
      "Epoch 84/100\n",
      "200/200 [==============================] - 4s 20ms/step - loss: 0.3270 - accuracy: 0.8644 - val_loss: 0.3498 - val_accuracy: 0.8587\n",
      "Epoch 85/100\n",
      "200/200 [==============================] - 5s 23ms/step - loss: 0.3271 - accuracy: 0.8633 - val_loss: 0.3511 - val_accuracy: 0.8562\n",
      "Epoch 86/100\n",
      "200/200 [==============================] - 4s 21ms/step - loss: 0.3269 - accuracy: 0.8639 - val_loss: 0.3508 - val_accuracy: 0.8550\n",
      "Epoch 87/100\n",
      "200/200 [==============================] - 4s 22ms/step - loss: 0.3279 - accuracy: 0.8633 - val_loss: 0.3483 - val_accuracy: 0.8581\n",
      "Epoch 88/100\n",
      "200/200 [==============================] - 4s 23ms/step - loss: 0.3264 - accuracy: 0.8639 - val_loss: 0.3491 - val_accuracy: 0.8575\n",
      "Epoch 89/100\n",
      "200/200 [==============================] - 5s 25ms/step - loss: 0.3262 - accuracy: 0.8637 - val_loss: 0.3495 - val_accuracy: 0.8575\n",
      "Epoch 90/100\n",
      "200/200 [==============================] - 4s 21ms/step - loss: 0.3266 - accuracy: 0.8645 - val_loss: 0.3498 - val_accuracy: 0.8575\n",
      "Epoch 91/100\n",
      "200/200 [==============================] - 4s 19ms/step - loss: 0.3264 - accuracy: 0.8645 - val_loss: 0.3495 - val_accuracy: 0.8575\n",
      "Epoch 92/100\n",
      "200/200 [==============================] - 3s 15ms/step - loss: 0.3264 - accuracy: 0.8633 - val_loss: 0.3485 - val_accuracy: 0.8587\n",
      "Epoch 93/100\n",
      "200/200 [==============================] - 3s 15ms/step - loss: 0.3258 - accuracy: 0.8627 - val_loss: 0.3484 - val_accuracy: 0.8556\n",
      "Epoch 94/100\n",
      "200/200 [==============================] - 3s 15ms/step - loss: 0.3257 - accuracy: 0.8656 - val_loss: 0.3489 - val_accuracy: 0.8575\n",
      "Epoch 95/100\n",
      "200/200 [==============================] - 3s 16ms/step - loss: 0.3257 - accuracy: 0.8648 - val_loss: 0.3500 - val_accuracy: 0.8569\n",
      "Epoch 96/100\n",
      "200/200 [==============================] - 3s 15ms/step - loss: 0.3256 - accuracy: 0.8645 - val_loss: 0.3501 - val_accuracy: 0.8575\n",
      "Epoch 97/100\n",
      "200/200 [==============================] - 4s 19ms/step - loss: 0.3257 - accuracy: 0.8645 - val_loss: 0.3493 - val_accuracy: 0.8550\n",
      "Epoch 98/100\n",
      "200/200 [==============================] - 3s 14ms/step - loss: 0.3250 - accuracy: 0.8655 - val_loss: 0.3507 - val_accuracy: 0.8550\n",
      "Epoch 99/100\n",
      "200/200 [==============================] - 3s 13ms/step - loss: 0.3246 - accuracy: 0.8648 - val_loss: 0.3506 - val_accuracy: 0.8544\n",
      "Epoch 100/100\n",
      "200/200 [==============================] - 4s 19ms/step - loss: 0.3244 - accuracy: 0.8650 - val_loss: 0.3503 - val_accuracy: 0.8562\n"
     ]
    },
    {
     "data": {
      "text/plain": [
       "<keras.src.callbacks.History at 0x7fdb03cab8b0>"
      ]
     },
     "execution_count": 51,
     "metadata": {},
     "output_type": "execute_result"
    }
   ],
   "source": [
    "model2.fit(X_train_scaled, y_train, epochs=30, validation_split=0.2)"
   ]
  },
  {
   "cell_type": "code",
   "execution_count": 52,
   "id": "6afb6d2c",
   "metadata": {},
   "outputs": [
    {
     "name": "stdout",
     "output_type": "stream",
     "text": [
      "Epoch 1/20\n",
      "200/200 [==============================] - 4s 19ms/step - loss: 0.3246 - accuracy: 0.8644 - val_loss: 0.3480 - val_accuracy: 0.8556\n",
      "Epoch 2/20\n",
      "200/200 [==============================] - 3s 15ms/step - loss: 0.3252 - accuracy: 0.8639 - val_loss: 0.3502 - val_accuracy: 0.8556\n",
      "Epoch 3/20\n",
      "200/200 [==============================] - 3s 16ms/step - loss: 0.3244 - accuracy: 0.8633 - val_loss: 0.3517 - val_accuracy: 0.8519\n",
      "Epoch 4/20\n",
      "200/200 [==============================] - 3s 14ms/step - loss: 0.3244 - accuracy: 0.8636 - val_loss: 0.3512 - val_accuracy: 0.8581\n",
      "Epoch 5/20\n",
      "200/200 [==============================] - 3s 14ms/step - loss: 0.3243 - accuracy: 0.8642 - val_loss: 0.3513 - val_accuracy: 0.8569\n",
      "Epoch 6/20\n",
      "200/200 [==============================] - 4s 20ms/step - loss: 0.3241 - accuracy: 0.8633 - val_loss: 0.3524 - val_accuracy: 0.8562\n",
      "Epoch 7/20\n",
      "200/200 [==============================] - 4s 20ms/step - loss: 0.3235 - accuracy: 0.8653 - val_loss: 0.3487 - val_accuracy: 0.8550\n",
      "Epoch 8/20\n",
      "200/200 [==============================] - 3s 14ms/step - loss: 0.3239 - accuracy: 0.8662 - val_loss: 0.3526 - val_accuracy: 0.8575\n",
      "Epoch 9/20\n",
      "200/200 [==============================] - 3s 13ms/step - loss: 0.3237 - accuracy: 0.8655 - val_loss: 0.3520 - val_accuracy: 0.8556\n",
      "Epoch 10/20\n",
      "200/200 [==============================] - 3s 15ms/step - loss: 0.3232 - accuracy: 0.8639 - val_loss: 0.3527 - val_accuracy: 0.8537\n",
      "Epoch 11/20\n",
      "200/200 [==============================] - 3s 13ms/step - loss: 0.3237 - accuracy: 0.8647 - val_loss: 0.3542 - val_accuracy: 0.8562\n",
      "Epoch 12/20\n",
      "200/200 [==============================] - 3s 14ms/step - loss: 0.3229 - accuracy: 0.8634 - val_loss: 0.3529 - val_accuracy: 0.8581\n",
      "Epoch 13/20\n",
      "200/200 [==============================] - 3s 14ms/step - loss: 0.3237 - accuracy: 0.8652 - val_loss: 0.3517 - val_accuracy: 0.8594\n",
      "Epoch 14/20\n",
      "200/200 [==============================] - 3s 14ms/step - loss: 0.3231 - accuracy: 0.8662 - val_loss: 0.3528 - val_accuracy: 0.8537\n",
      "Epoch 15/20\n",
      "200/200 [==============================] - 3s 14ms/step - loss: 0.3237 - accuracy: 0.8647 - val_loss: 0.3517 - val_accuracy: 0.8575\n",
      "Epoch 16/20\n",
      "200/200 [==============================] - 3s 17ms/step - loss: 0.3231 - accuracy: 0.8658 - val_loss: 0.3516 - val_accuracy: 0.8575\n",
      "Epoch 17/20\n",
      "200/200 [==============================] - 5s 23ms/step - loss: 0.3225 - accuracy: 0.8658 - val_loss: 0.3534 - val_accuracy: 0.8525\n",
      "Epoch 18/20\n",
      "200/200 [==============================] - 3s 16ms/step - loss: 0.3226 - accuracy: 0.8656 - val_loss: 0.3548 - val_accuracy: 0.8512\n",
      "Epoch 19/20\n",
      "200/200 [==============================] - 3s 13ms/step - loss: 0.3222 - accuracy: 0.8631 - val_loss: 0.3535 - val_accuracy: 0.8544\n",
      "Epoch 20/20\n",
      "200/200 [==============================] - 3s 14ms/step - loss: 0.3226 - accuracy: 0.8639 - val_loss: 0.3532 - val_accuracy: 0.8550\n"
     ]
    }
   ],
   "source": [
    "history = model2.fit(X_train_scaled, y_train, epochs=20, validation_split=0.2)"
   ]
  },
  {
   "cell_type": "code",
   "execution_count": 53,
   "id": "4658782d",
   "metadata": {},
   "outputs": [
    {
     "data": {
      "text/plain": [
       "{'loss': [0.32456591725349426,\n",
       "  0.3252153694629669,\n",
       "  0.324428915977478,\n",
       "  0.32443907856941223,\n",
       "  0.3243284225463867,\n",
       "  0.324074923992157,\n",
       "  0.3234822452068329,\n",
       "  0.3239293396472931,\n",
       "  0.3237186372280121,\n",
       "  0.3231503963470459,\n",
       "  0.3237456977367401,\n",
       "  0.32286423444747925,\n",
       "  0.32365843653678894,\n",
       "  0.32312336564064026,\n",
       "  0.3236995041370392,\n",
       "  0.3231033384799957,\n",
       "  0.32248976826667786,\n",
       "  0.32261648774147034,\n",
       "  0.322209894657135,\n",
       "  0.3226276636123657],\n",
       " 'accuracy': [0.8643749952316284,\n",
       "  0.8639062643051147,\n",
       "  0.86328125,\n",
       "  0.8635937571525574,\n",
       "  0.8642187714576721,\n",
       "  0.86328125,\n",
       "  0.8653125166893005,\n",
       "  0.8662499785423279,\n",
       "  0.8654687404632568,\n",
       "  0.8639062643051147,\n",
       "  0.8646875023841858,\n",
       "  0.8634374737739563,\n",
       "  0.8651562333106995,\n",
       "  0.8662499785423279,\n",
       "  0.8646875023841858,\n",
       "  0.8657812476158142,\n",
       "  0.8657812476158142,\n",
       "  0.8656250238418579,\n",
       "  0.8631250262260437,\n",
       "  0.8639062643051147],\n",
       " 'val_loss': [0.34803545475006104,\n",
       "  0.35019156336784363,\n",
       "  0.3516875207424164,\n",
       "  0.3511742353439331,\n",
       "  0.3513236343860626,\n",
       "  0.3524251878261566,\n",
       "  0.34867337346076965,\n",
       "  0.35263895988464355,\n",
       "  0.3519711196422577,\n",
       "  0.35270094871520996,\n",
       "  0.3541561961174011,\n",
       "  0.35285189747810364,\n",
       "  0.35169827938079834,\n",
       "  0.35281383991241455,\n",
       "  0.35167843103408813,\n",
       "  0.35160204768180847,\n",
       "  0.3533508777618408,\n",
       "  0.354765385389328,\n",
       "  0.3535219132900238,\n",
       "  0.3531736731529236],\n",
       " 'val_accuracy': [0.8556249737739563,\n",
       "  0.8556249737739563,\n",
       "  0.8518750071525574,\n",
       "  0.8581249713897705,\n",
       "  0.8568750023841858,\n",
       "  0.856249988079071,\n",
       "  0.8550000190734863,\n",
       "  0.8575000166893005,\n",
       "  0.8556249737739563,\n",
       "  0.8537499904632568,\n",
       "  0.856249988079071,\n",
       "  0.8581249713897705,\n",
       "  0.859375,\n",
       "  0.8537499904632568,\n",
       "  0.8575000166893005,\n",
       "  0.8575000166893005,\n",
       "  0.8525000214576721,\n",
       "  0.8512499928474426,\n",
       "  0.8543750047683716,\n",
       "  0.8550000190734863]}"
      ]
     },
     "execution_count": 53,
     "metadata": {},
     "output_type": "execute_result"
    }
   ],
   "source": [
    "history.history"
   ]
  },
  {
   "cell_type": "code",
   "execution_count": 56,
   "id": "23d4bee3",
   "metadata": {},
   "outputs": [
    {
     "data": {
      "text/plain": [
       "[<matplotlib.lines.Line2D at 0x7fdb062ddbd0>]"
      ]
     },
     "execution_count": 56,
     "metadata": {},
     "output_type": "execute_result"
    },
    {
     "data": {
      "image/png": "[encoded data removed]",
      "text/plain": [
       "<Figure size 640x480 with 1 Axes>"
      ]
     },
     "metadata": {},
     "output_type": "display_data"
    }
   ],
   "source": [
    "plt.plot(history.history[\"loss\"])\n",
    "plt.plot(history.history[\"val_loss\"])"
   ]
  },
  {
   "cell_type": "code",
   "execution_count": 57,
   "id": "0ace4a9c",
   "metadata": {},
   "outputs": [
    {
     "data": {
      "text/plain": [
       "[<matplotlib.lines.Line2D at 0x7fdb05fe6080>]"
      ]
     },
     "execution_count": 57,
     "metadata": {},
     "output_type": "execute_result"
    },
    {
     "data": {
      "image/png": "[encoded data removed]",
      "text/plain": [
       "<Figure size 640x480 with 1 Axes>"
      ]
     },
     "metadata": {},
     "output_type": "display_data"
    }
   ],
   "source": [
    "plt.plot(history.history[\"accuracy\"])\n",
    "plt.plot(history.history[\"val_accuracy\"])"
   ]
  },
  {
   "cell_type": "code",
   "execution_count": null,
   "id": "7a9c10b9",
   "metadata": {},
   "outputs": [],
   "source": []
  }
 ],
 "metadata": {
  "kernelspec": {
   "display_name": "Python 3 (ipykernel)",
   "language": "python",
   "name": "python3"
  },
  "language_info": {
   "codemirror_mode": {
    "name": "ipython",
    "version": 3
   },
   "file_extension": ".py",
   "mimetype": "text/x-python",
   "name": "python",
   "nbconvert_exporter": "python",
   "pygments_lexer": "ipython3",
   "version": "3.10.9"
  }
 },
 "nbformat": 4,
 "nbformat_minor": 5
}
